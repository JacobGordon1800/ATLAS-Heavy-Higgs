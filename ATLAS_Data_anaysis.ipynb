{
  "cells": [
    {
      "cell_type": "markdown",
      "metadata": {
        "id": "view-in-github",
        "colab_type": "text"
      },
      "source": [
        "<a href=\"https://colab.research.google.com/github/JacobGordon1800/ATLAS-Heavy-Higgs/blob/main/ATLAS_Data_anaysis.ipynb\" target=\"_parent\"><img src=\"https://colab.research.google.com/assets/colab-badge.svg\" alt=\"Open In Colab\"/></a>"
      ]
    },
    {
      "cell_type": "code",
      "execution_count": null,
      "metadata": {
        "colab": {
          "base_uri": "https://localhost:8080/"
        },
        "id": "2fD9sgDOi2m-",
        "outputId": "8ac1284b-5c92-4646-e747-6ed30526e878"
      },
      "outputs": [
        {
          "output_type": "stream",
          "name": "stdout",
          "text": [
            "Collecting atlasify\n",
            "  Downloading atlasify-0.7.1.tar.gz (413 kB)\n",
            "\u001b[K     |████████████████████████████████| 413 kB 4.9 MB/s \n",
            "\u001b[?25hRequirement already satisfied: matplotlib in /usr/local/lib/python3.7/dist-packages (from atlasify) (3.2.2)\n",
            "Requirement already satisfied: packaging in /usr/local/lib/python3.7/dist-packages (from atlasify) (21.3)\n",
            "Requirement already satisfied: cycler>=0.10 in /usr/local/lib/python3.7/dist-packages (from matplotlib->atlasify) (0.11.0)\n",
            "Requirement already satisfied: pyparsing!=2.0.4,!=2.1.2,!=2.1.6,>=2.0.1 in /usr/local/lib/python3.7/dist-packages (from matplotlib->atlasify) (3.0.8)\n",
            "Requirement already satisfied: python-dateutil>=2.1 in /usr/local/lib/python3.7/dist-packages (from matplotlib->atlasify) (2.8.2)\n",
            "Requirement already satisfied: kiwisolver>=1.0.1 in /usr/local/lib/python3.7/dist-packages (from matplotlib->atlasify) (1.4.2)\n",
            "Requirement already satisfied: numpy>=1.11 in /usr/local/lib/python3.7/dist-packages (from matplotlib->atlasify) (1.21.6)\n",
            "Requirement already satisfied: typing-extensions in /usr/local/lib/python3.7/dist-packages (from kiwisolver>=1.0.1->matplotlib->atlasify) (4.2.0)\n",
            "Requirement already satisfied: six>=1.5 in /usr/local/lib/python3.7/dist-packages (from python-dateutil>=2.1->matplotlib->atlasify) (1.15.0)\n",
            "Building wheels for collected packages: atlasify\n",
            "  Building wheel for atlasify (setup.py) ... \u001b[?25l\u001b[?25hdone\n",
            "  Created wheel for atlasify: filename=atlasify-0.7.1-py3-none-any.whl size=411440 sha256=1207a7b7363e416446fdf2e153f56a889e80a3b242796368064451e2db44bb07\n",
            "  Stored in directory: /root/.cache/pip/wheels/f8/f7/b3/88f1564473f741300cb08b9eda1a3660f59f30ee0b114634d2\n",
            "Successfully built atlasify\n",
            "Installing collected packages: atlasify\n",
            "Successfully installed atlasify-0.7.1\n",
            "Collecting deap\n",
            "  Downloading deap-1.3.1-cp37-cp37m-manylinux_2_5_x86_64.manylinux1_x86_64.manylinux_2_12_x86_64.manylinux2010_x86_64.whl (160 kB)\n",
            "\u001b[K     |████████████████████████████████| 160 kB 5.2 MB/s \n",
            "\u001b[?25hCollecting update_checker\n",
            "  Downloading update_checker-0.18.0-py3-none-any.whl (7.0 kB)\n",
            "Requirement already satisfied: tqdm in /usr/local/lib/python3.7/dist-packages (4.64.0)\n",
            "Collecting stopit\n",
            "  Downloading stopit-1.1.2.tar.gz (18 kB)\n",
            "Requirement already satisfied: xgboost in /usr/local/lib/python3.7/dist-packages (0.90)\n",
            "Requirement already satisfied: numpy in /usr/local/lib/python3.7/dist-packages (from deap) (1.21.6)\n",
            "Requirement already satisfied: requests>=2.3.0 in /usr/local/lib/python3.7/dist-packages (from update_checker) (2.23.0)\n",
            "Requirement already satisfied: idna<3,>=2.5 in /usr/local/lib/python3.7/dist-packages (from requests>=2.3.0->update_checker) (2.10)\n",
            "Requirement already satisfied: urllib3!=1.25.0,!=1.25.1,<1.26,>=1.21.1 in /usr/local/lib/python3.7/dist-packages (from requests>=2.3.0->update_checker) (1.24.3)\n",
            "Requirement already satisfied: chardet<4,>=3.0.2 in /usr/local/lib/python3.7/dist-packages (from requests>=2.3.0->update_checker) (3.0.4)\n",
            "Requirement already satisfied: certifi>=2017.4.17 in /usr/local/lib/python3.7/dist-packages (from requests>=2.3.0->update_checker) (2021.10.8)\n",
            "Requirement already satisfied: scipy in /usr/local/lib/python3.7/dist-packages (from xgboost) (1.4.1)\n",
            "Building wheels for collected packages: stopit\n",
            "  Building wheel for stopit (setup.py) ... \u001b[?25l\u001b[?25hdone\n",
            "  Created wheel for stopit: filename=stopit-1.1.2-py3-none-any.whl size=11956 sha256=6700d69be1cf399a63850e654a67e8b6dde65c420a38370558545f0066fceee6\n",
            "  Stored in directory: /root/.cache/pip/wheels/e2/d2/79/eaf81edb391e27c87f51b8ef901ecc85a5363dc96b8b8d71e3\n",
            "Successfully built stopit\n",
            "Installing collected packages: update-checker, stopit, deap\n",
            "Successfully installed deap-1.3.1 stopit-1.1.2 update-checker-0.18.0\n",
            "\u001b[31mERROR: pip's dependency resolver does not currently take into account all the packages that are installed. This behaviour is the source of the following dependency conflicts.\n",
            "gym 0.17.3 requires cloudpickle<1.7.0,>=1.2.0, but you have cloudpickle 2.0.0 which is incompatible.\u001b[0m\n",
            "Collecting scikit-mdr\n",
            "  Downloading scikit-MDR-0.4.4.tar.gz (11 kB)\n",
            "Collecting skrebate\n",
            "  Downloading skrebate-0.62.tar.gz (19 kB)\n",
            "Requirement already satisfied: numpy in /usr/local/lib/python3.7/dist-packages (from scikit-mdr) (1.21.6)\n",
            "Requirement already satisfied: scipy in /usr/local/lib/python3.7/dist-packages (from scikit-mdr) (1.4.1)\n",
            "Requirement already satisfied: scikit-learn in /usr/local/lib/python3.7/dist-packages (from scikit-mdr) (1.0.2)\n",
            "Requirement already satisfied: matplotlib in /usr/local/lib/python3.7/dist-packages (from scikit-mdr) (3.2.2)\n",
            "Requirement already satisfied: kiwisolver>=1.0.1 in /usr/local/lib/python3.7/dist-packages (from matplotlib->scikit-mdr) (1.4.2)\n",
            "Requirement already satisfied: python-dateutil>=2.1 in /usr/local/lib/python3.7/dist-packages (from matplotlib->scikit-mdr) (2.8.2)\n",
            "Requirement already satisfied: cycler>=0.10 in /usr/local/lib/python3.7/dist-packages (from matplotlib->scikit-mdr) (0.11.0)\n",
            "Requirement already satisfied: pyparsing!=2.0.4,!=2.1.2,!=2.1.6,>=2.0.1 in /usr/local/lib/python3.7/dist-packages (from matplotlib->scikit-mdr) (3.0.8)\n",
            "Requirement already satisfied: typing-extensions in /usr/local/lib/python3.7/dist-packages (from kiwisolver>=1.0.1->matplotlib->scikit-mdr) (4.2.0)\n",
            "Requirement already satisfied: six>=1.5 in /usr/local/lib/python3.7/dist-packages (from python-dateutil>=2.1->matplotlib->scikit-mdr) (1.15.0)\n",
            "Requirement already satisfied: threadpoolctl>=2.0.0 in /usr/local/lib/python3.7/dist-packages (from scikit-learn->scikit-mdr) (3.1.0)\n",
            "Requirement already satisfied: joblib>=0.11 in /usr/local/lib/python3.7/dist-packages (from scikit-learn->scikit-mdr) (1.1.0)\n",
            "Building wheels for collected packages: scikit-mdr, skrebate\n",
            "  Building wheel for scikit-mdr (setup.py) ... \u001b[?25l\u001b[?25hdone\n",
            "  Created wheel for scikit-mdr: filename=scikit_MDR-0.4.4-py3-none-any.whl size=14647 sha256=ab65626be477688753b13b72d9a3356cf5f1065625c080593211874cc9d4b348\n",
            "  Stored in directory: /root/.cache/pip/wheels/32/d0/b5/3ac42d99dd9d9d02b8587d5ebb72b7b137ce0908ccfa5b8fa9\n",
            "  Building wheel for skrebate (setup.py) ... \u001b[?25l\u001b[?25hdone\n",
            "  Created wheel for skrebate: filename=skrebate-0.62-py3-none-any.whl size=29271 sha256=5200590a83171e26cf9f32d5ed8eea4421502436e3f3fb4062bc10cebf3f262a\n",
            "  Stored in directory: /root/.cache/pip/wheels/4f/3b/07/22a9a01f3f25cd376122b5ef526737a44993b4c312e50916ed\n",
            "Successfully built scikit-mdr skrebate\n",
            "Installing collected packages: skrebate, scikit-mdr\n",
            "Successfully installed scikit-mdr-0.4.4 skrebate-0.62\n",
            "Collecting tpot\n",
            "  Downloading TPOT-0.11.7-py3-none-any.whl (87 kB)\n",
            "\u001b[K     |████████████████████████████████| 87 kB 2.8 MB/s \n",
            "\u001b[?25hCollecting xgboost>=1.1.0\n",
            "  Downloading xgboost-1.6.0-py3-none-manylinux2014_x86_64.whl (193.7 MB)\n",
            "\u001b[K     |████████████████████████████████| 193.7 MB 36 kB/s \n",
            "\u001b[?25hRequirement already satisfied: pandas>=0.24.2 in /usr/local/lib/python3.7/dist-packages (from tpot) (1.3.5)\n",
            "Requirement already satisfied: stopit>=1.1.1 in /usr/local/lib/python3.7/dist-packages (from tpot) (1.1.2)\n",
            "Requirement already satisfied: numpy>=1.16.3 in /usr/local/lib/python3.7/dist-packages (from tpot) (1.21.6)\n",
            "Requirement already satisfied: update-checker>=0.16 in /usr/local/lib/python3.7/dist-packages (from tpot) (0.18.0)\n",
            "Requirement already satisfied: deap>=1.2 in /usr/local/lib/python3.7/dist-packages (from tpot) (1.3.1)\n",
            "Requirement already satisfied: joblib>=0.13.2 in /usr/local/lib/python3.7/dist-packages (from tpot) (1.1.0)\n",
            "Requirement already satisfied: scipy>=1.3.1 in /usr/local/lib/python3.7/dist-packages (from tpot) (1.4.1)\n",
            "Requirement already satisfied: scikit-learn>=0.22.0 in /usr/local/lib/python3.7/dist-packages (from tpot) (1.0.2)\n",
            "Requirement already satisfied: tqdm>=4.36.1 in /usr/local/lib/python3.7/dist-packages (from tpot) (4.64.0)\n",
            "Requirement already satisfied: pytz>=2017.3 in /usr/local/lib/python3.7/dist-packages (from pandas>=0.24.2->tpot) (2022.1)\n",
            "Requirement already satisfied: python-dateutil>=2.7.3 in /usr/local/lib/python3.7/dist-packages (from pandas>=0.24.2->tpot) (2.8.2)\n",
            "Requirement already satisfied: six>=1.5 in /usr/local/lib/python3.7/dist-packages (from python-dateutil>=2.7.3->pandas>=0.24.2->tpot) (1.15.0)\n",
            "Requirement already satisfied: threadpoolctl>=2.0.0 in /usr/local/lib/python3.7/dist-packages (from scikit-learn>=0.22.0->tpot) (3.1.0)\n",
            "Requirement already satisfied: requests>=2.3.0 in /usr/local/lib/python3.7/dist-packages (from update-checker>=0.16->tpot) (2.23.0)\n",
            "Requirement already satisfied: chardet<4,>=3.0.2 in /usr/local/lib/python3.7/dist-packages (from requests>=2.3.0->update-checker>=0.16->tpot) (3.0.4)\n",
            "Requirement already satisfied: urllib3!=1.25.0,!=1.25.1,<1.26,>=1.21.1 in /usr/local/lib/python3.7/dist-packages (from requests>=2.3.0->update-checker>=0.16->tpot) (1.24.3)\n",
            "Requirement already satisfied: certifi>=2017.4.17 in /usr/local/lib/python3.7/dist-packages (from requests>=2.3.0->update-checker>=0.16->tpot) (2021.10.8)\n",
            "Requirement already satisfied: idna<3,>=2.5 in /usr/local/lib/python3.7/dist-packages (from requests>=2.3.0->update-checker>=0.16->tpot) (2.10)\n",
            "Installing collected packages: xgboost, tpot\n",
            "  Attempting uninstall: xgboost\n",
            "    Found existing installation: xgboost 0.90\n",
            "    Uninstalling xgboost-0.90:\n",
            "      Successfully uninstalled xgboost-0.90\n",
            "Successfully installed tpot-0.11.7 xgboost-1.6.0\n"
          ]
        }
      ],
      "source": [
        "# import libraries\n",
        "!pip install atlasify     # CERN ATLAS plotting library\n",
        "!pip install deap update_checker tqdm stopit xgboost        \n",
        "!pip install dask[delayed] dask[dataframe] dask-ml fsspec>=0.3.3 distributed>=2.10.0   \n",
        "!pip install scikit-mdr skrebate     \n",
        "!pip install tpot    \n",
        "from io import BytesIO                        # Handles import binary data, to support the npy file import\n",
        "import atlasify\n",
        "import numpy as np\n",
        "import matplotlib.pyplot as plt\n",
        "import requests\n",
        "import json                                   # JavaScript Object Notation library to handle parsing JSON files\n",
        "import urllib                                 # Access to HTTP URL parse from web servers\n",
        "from atlasify import atlasify\n",
        "from atlasify import monkeypatch_axis_labels\n",
        "%matplotlib inline \n",
        "import seaborn as sns\n",
        "from sklearn.model_selection import train_test_split\n",
        "from sklearn.preprocessing import StandardScaler\n",
        "from sklearn.model_selection import train_test_split\n",
        "from sklearn.metrics import roc_auc_score, roc_curve\n",
        "from sklearn.decomposition import PCA\n",
        "from sklearn.ensemble import RandomForestClassifier\n",
        "from sklearn.pipeline import make_pipeline\n",
        "from sklearn.preprocessing import MinMaxScaler\n",
        "from tpot.export_utils import set_param_recursive\n",
        "from sklearn.model_selection import GridSearchCV\n",
        "from joblib import dump, load\n",
        "from sklearn import svm\n",
        "import math\n",
        "import pandas as pd\n",
        "from pathlib import Path\n",
        "import sys\n",
        "import os\n",
        "from numpy import loadtxt\n",
        "from keras.models import Sequential\n",
        "from keras.layers import Dense\n",
        "import keras\n",
        "from tpot import TPOTClassifier"
      ]
    },
    {
      "cell_type": "code",
      "execution_count": null,
      "metadata": {
        "id": "etFApRsXjZvU",
        "colab": {
          "base_uri": "https://localhost:8080/"
        },
        "outputId": "01b77a0f-a540-43c2-8f4d-fc04a0b8a6fc"
      },
      "outputs": [
        {
          "output_type": "execute_result",
          "data": {
            "text/plain": [
              "(613264, 58)"
            ]
          },
          "metadata": {},
          "execution_count": 2
        }
      ],
      "source": [
        "#  Gets a handle, r, to a HTTP request to the npy data file\n",
        "r = requests.get('https://hep.ph.liv.ac.uk/~rompotis/MasterStudentProject/AZH/llttbar_data_v2.npy', stream = True)  #Import the large data set\n",
        "data = np.load(BytesIO(r.raw.read())) #Converts the binary file to a NumPy format\n",
        "\n",
        "data.shape"
      ]
    },
    {
      "cell_type": "code",
      "execution_count": null,
      "metadata": {
        "id": "vqXQL-fTlVLx"
      },
      "outputs": [],
      "source": [
        "keys = json.loads(urllib.request.urlopen(\"https://hep.ph.liv.ac.uk/~rompotis/MasterStudentProject/AZH/file_llttbar_keys_v2.json\").read()) #Import list of varibles\n",
        "\n",
        "\n",
        "which = json.loads(urllib.request.urlopen(\"https://hep.ph.liv.ac.uk/~rompotis/MasterStudentProject/AZH/file_llttbar_list_v2.json\").read()) #Import list if numbers corresponding to varibles"
      ]
    },
    {
      "cell_type": "markdown",
      "metadata": {
        "id": "XnQn1yMqmTmF"
      },
      "source": [
        ""
      ]
    },
    {
      "cell_type": "code",
      "execution_count": null,
      "metadata": {
        "colab": {
          "base_uri": "https://localhost:8080/"
        },
        "id": "fqdRci5SkWUD",
        "outputId": "df673e96-23f0-4332-8ba5-a87ac92c7a78"
      },
      "outputs": [
        {
          "output_type": "stream",
          "name": "stdout",
          "text": [
            "['isTagJ1', 'isTagJ2', 'isTagJ3', 'isTagJ4', 'OSSF', 'NTags', 'NTaus', 'Njets', 'labelJ1', 'labelJ2', 'labelJ3', 'labelJ4', 'nLepton', 'NSigJets', 'typeLep1', 'typeLep2', 'typeLep3', 'RunNumber', 'NForwardJets', 'NTauLikeJets', 'MCChannelNumber', 'EventNumber', 'mH', 'mZ', 'MET', 'mJ1', 'mJ2', 'mJ3', 'mJ4', 'mVH', 'pTH', 'pTZ', 'etaH', 'pTJ1', 'pTJ2', 'pTJ3', 'pTJ4', 'pTVH', 'phiH', 'etaJ1', 'etaJ2', 'etaJ3', 'etaJ4', 'etaVH', 'mLep1', 'mLep2', 'mLep3', 'mWHad', 'mWLep', 'mZ_nu', 'phiJ1', 'phiJ2', 'phiJ3', 'phiJ4', 'phiVH', 'METSig', 'mVH_nu', 'pTLep1', 'pTLep2', 'pTLep3', 'pTWHad', 'pTWLep', 'pTZ_nu', 'phiMET', 'dM_VH_H', 'etaLep1', 'etaLep2', 'etaLep3', 'pTVH_nu', 'phiLep1', 'phiLep2', 'phiLep3', 'etaVH_nu', 'mWLep_nu', 'phiVH_nu', 'topHad_m', 'topLep_m', 'bTagBinJ1', 'bTagBinJ2', 'bTagBinJ3', 'bTagBinJ4', 'pTWLep_nu', 'chargeLep1', 'chargeLep2', 'chargeLep3', 'EventWeight', 'MCEventWeight']\n"
          ]
        }
      ],
      "source": [
        "print(keys)"
      ]
    },
    {
      "cell_type": "code",
      "execution_count": null,
      "metadata": {
        "colab": {
          "base_uri": "https://localhost:8080/"
        },
        "id": "yuTbTss0mjd3",
        "outputId": "36d702d5-656d-43db-b938-a90758b5ea87"
      },
      "outputs": [
        {
          "output_type": "stream",
          "name": "stdout",
          "text": [
            "[20, 17, 21, 85, 5, 13, 18, 22, 23, 24, 25, 26, 27, 28, 29, 30, 31, 32, 33, 34, 35, 36, 37, 38, 39, 40, 41, 42, 43, 47, 48, 50, 51, 52, 53, 54, 55, 57, 58, 59, 60, 61, 62, 63, 64, 65, 66, 67, 69, 70, 71, 73, 75, 76, 14, 15, 16, 4]\n"
          ]
        }
      ],
      "source": [
        "print(which)"
      ]
    },
    {
      "cell_type": "code",
      "execution_count": null,
      "metadata": {
        "colab": {
          "base_uri": "https://localhost:8080/"
        },
        "id": "wAXwIWsdnR9m",
        "outputId": "fde3b427-65bf-42ff-da60-6934c2d81381"
      },
      "outputs": [
        {
          "output_type": "stream",
          "name": "stdout",
          "text": [
            "my variable is NSigJets\n"
          ]
        }
      ],
      "source": [
        "sample_slice = data[:,0] # Takes the first collum in the matrix data and extracts every row.\n",
        "event_slice = data[:,1]  # Same as above excpt 2nd collum (Signal number)\n",
        "event_number= data[:,2]  # 3rd collum (event number)\n",
        "signalNumber = 506698 # Sample number (506698)\n",
        "\n",
        "data_sig = data[ sample_slice == signalNumber ] #Filter data for specific signal number  \n",
        "\n",
        "data_bkg = data[ (sample_slice == 1) | (sample_slice == 2) ] #Filter out for background data where signal number == 1 or 2\n",
        "\n",
        "#To get a variable:\n",
        "j = which[5]\n",
        "print('my variable is', keys[j])\n",
        "dat_var_bkg_ = data_bkg[:,5] #This is the 5th collum in the varible which. Which corrsponds to 13, This is the 13th collum in keys. Which is the varible name NsigJets.\n",
        "dat_var_sig_ = data_sig[:,5] # Collum 5 is NsigJets in the keys varible"
      ]
    },
    {
      "cell_type": "code",
      "execution_count": null,
      "metadata": {
        "colab": {
          "base_uri": "https://localhost:8080/"
        },
        "id": "A7Qrud-vIk_B",
        "outputId": "433d6d01-df00-4ca4-9b9c-21df56f04545"
      },
      "outputs": [
        {
          "output_type": "execute_result",
          "data": {
            "text/plain": [
              "(16616, 58)"
            ]
          },
          "metadata": {},
          "execution_count": 7
        }
      ],
      "source": [
        "data_sig.shape"
      ]
    },
    {
      "cell_type": "code",
      "execution_count": null,
      "metadata": {
        "colab": {
          "base_uri": "https://localhost:8080/"
        },
        "id": "Cse5jiAkJjVn",
        "outputId": "ece2e7e3-34bc-43d6-e4d5-72144b66081c"
      },
      "outputs": [
        {
          "output_type": "execute_result",
          "data": {
            "text/plain": [
              "(613264,)"
            ]
          },
          "metadata": {},
          "execution_count": 8
        }
      ],
      "source": [
        "event_number.shape"
      ]
    },
    {
      "cell_type": "code",
      "execution_count": null,
      "metadata": {
        "id": "jUuV0IWEwOtU"
      },
      "outputs": [],
      "source": [
        "tag = 'BDT_v00'\n",
        "label = 'mZ: 80-100 GeV, 4 jets' #Lables for each varible in signal numbers\n",
        "v_mva = ['dM_VH_H', 'etaH', \n",
        "         'etaJ1', 'etaJ2', 'etaJ3', 'etaJ4',\n",
        "         'etaLep1', 'etaLep2', 'etaLep3',\n",
        "         'MET', 'METSig', 'mH', \n",
        "         'mVH', 'mWLep', \n",
        "         'pTH', 'pTJ1', 'pTJ2',  'pTJ3', 'pTJ4',\n",
        "         'pTLep1', 'pTLep2', 'pTLep3', 'pTVH',\n",
        "         'pTWHad', 'pTWLep',\n",
        "         'pTZ' , 'topHad_m', \n",
        "         'topLep_m'   ]"
      ]
    },
    {
      "cell_type": "code",
      "execution_count": null,
      "metadata": {
        "id": "vMc_FlVswj5z"
      },
      "outputs": [],
      "source": [
        "#Name of signals and there corresponding numbers\n",
        "samples = {364161: 'Wbb', 364139: 'Zbl', 364164: 'Wbl', 364182: 'Wbl', 364167: 'Wbb', 364168: 'Wl', 364169: 'Wbl', 364183: 'Wl', 364172: 'Wbb', 364302: 'ggZZ', 364175: 'Wl', 364178: 'Wbl', 410644: 'stops', 410645: 'stops', 410646: 'stopWt', 410647: 'stopWt', 364122: 'Zbb', 364101: 'Zcc', 364192: 'Wbl', 410658: 'stopt',410659: 'stopt',   364195: 'Wbl', 364102: 'Zbl', 363356: 'ZZ', 410155: 'ttV', 364125: 'Zbl', 364104: 'Zcl', 363489: 'WZ', 363358: 'WZ', 364105: 'Zbc', 364103: 'Zl', 506683: 'AZH_lltt_mA500_mH400', 506684: 'AZH_lltt_mA600_mH400', 506685: 'AZH_lltt_mA600_mH500', 506686: 'AZH_lltt_mA700_mH400', 506687: 'AZH_lltt_mA700_mH500', 506688: 'AZH_lltt_mA800_mH400', 506689: 'AZH_lltt_mA800_mH600', 506690: 'AZH_lltt_mA900_mH400', 506691: 'AZH_lltt_mA900_mH600', 506692: 'AZH_lltt_mA1000_mH400', 506693: 'AZH_lltt_mA1000_mH600', 506694: 'AZH_lltt_mA1100_mH400', 506695: 'AZH_lltt_mA1100_mH600', 506696: 'AZH_lltt_mA1200_mH400', 506697: 'AZH_lltt_mA1200_mH500', 506698: 'AZH_lltt_mA1200_mH600', 364107: 'Zl', 364108: 'Zbl', 364110: 'Zl', 364111: 'Zbl', 364112: 'Zbc', 364116: 'Zbb', 364117: 'Zl', 364118: 'Zl', 364119: 'Zbb', 364121: 'Zcc', 364250: 'llll', 364124: 'Zcc', 364253: 'lllv', 364254: 'llvv', 410081: 'ttbarWW', 364130: 'Zbb', 364133: 'Zbl', 410470: 'ttbar', 346344: 'ttH', 410218: 'ttV', 410219: 'ttV',410220: 'ttV', 364140: 'Zcc', 364136: 'Zbb', 364126: 'Zbl', 364181: 'Wbb', 364141:'Zvv',364113:'Ztautau',364127:'Zee', 364197:'Wtaunu'}"
      ]
    },
    {
      "cell_type": "code",
      "source": [
        "len(samples)"
      ],
      "metadata": {
        "colab": {
          "base_uri": "https://localhost:8080/"
        },
        "id": "RkFgjDt3pVpN",
        "outputId": "0affb918-50a8-42db-cac4-44bc4961e696"
      },
      "execution_count": null,
      "outputs": [
        {
          "output_type": "execute_result",
          "data": {
            "text/plain": [
              "77"
            ]
          },
          "metadata": {},
          "execution_count": 11
        }
      ]
    },
    {
      "cell_type": "code",
      "execution_count": null,
      "metadata": {
        "colab": {
          "base_uri": "https://localhost:8080/",
          "height": 35
        },
        "id": "T9yCGLwdwz4j",
        "outputId": "88eb1d67-b637-4632-dc0c-56df843cd655"
      },
      "outputs": [
        {
          "output_type": "execute_result",
          "data": {
            "text/plain": [
              "'AZH_lltt_mA1200_mH600'"
            ],
            "application/vnd.google.colaboratory.intrinsic+json": {
              "type": "string"
            }
          },
          "metadata": {},
          "execution_count": 12
        }
      ],
      "source": [
        "extralabel = samples[signalNumber] #Labels the signal number on the plots\n",
        "extralabel"
      ]
    },
    {
      "cell_type": "code",
      "execution_count": null,
      "metadata": {
        "colab": {
          "base_uri": "https://localhost:8080/"
        },
        "id": "qPK_dR2pxHwi",
        "outputId": "ac0f382f-150b-4a88-92c1-dd1a5ac8c40f"
      },
      "outputs": [
        {
          "output_type": "stream",
          "name": "stdout",
          "text": [
            "[410408, 345057, 345055]\n"
          ]
        }
      ],
      "source": [
        "# This is the cut function that extracts the variables for a series of Signal Numbers containsed in the samples list (see above)\n",
        "\n",
        "sample_slice_2 = [] #Sets an empty array\n",
        "\n",
        "kept = []\n",
        "\n",
        "for counter, ji in enumerate(sample_slice):  # Loop through every Signal Number\n",
        "    j = int(ji) #Converts into an intiger\n",
        "    #print(j, event_slice[counter] )\n",
        "\n",
        "    if j == int(event_slice[counter]): # if the signal = value of event_slice\n",
        "        res = 0 #Ignorers data not relevent to our signal number\n",
        "    elif j in samples:\n",
        "        tagi = samples[j] # get the name of Signal Number (text)\n",
        "        res = 2\n",
        "        if 'AZH' in tagi: # if the name of Signal Number beings with AZH then\n",
        "            res = j       # set the valuye to append the new matrix with the Signal Number\n",
        "        elif tagi == 'ttV': # If the variable beings with ttV (Background Data), then set res = 1\n",
        "            res = 1          # 2 and 1 are background data \n",
        "    else:\n",
        "        kept.append(j)\n",
        "    \n",
        "    sample_slice_2.append(res)   # adds the signal number and associated varivbles and background noise\n",
        "    \n",
        "\n",
        "print( list(set(kept)) )\n",
        "sample_slice_2 = np.array(sample_slice_2)"
      ]
    },
    {
      "cell_type": "code",
      "execution_count": null,
      "metadata": {
        "colab": {
          "base_uri": "https://localhost:8080/"
        },
        "id": "sHi2KRb0PSxb",
        "outputId": "fa83d2a0-628c-4294-9c89-a623a53b9ce9"
      },
      "outputs": [
        {
          "output_type": "execute_result",
          "data": {
            "text/plain": [
              "(613264,)"
            ]
          },
          "metadata": {},
          "execution_count": 14
        }
      ],
      "source": [
        "sample_slice_2.shape"
      ]
    },
    {
      "cell_type": "code",
      "execution_count": null,
      "metadata": {
        "id": "CM9w2EI7x8Aq",
        "colab": {
          "base_uri": "https://localhost:8080/"
        },
        "outputId": "31ae8a0e-3759-46ee-8a36-c334e3a10171"
      },
      "outputs": [
        {
          "output_type": "execute_result",
          "data": {
            "text/plain": [
              "(613264, 58)"
            ]
          },
          "metadata": {},
          "execution_count": 15
        }
      ],
      "source": [
        "data[:,0] = sample_slice_2\n",
        "data[:,2] = (event_number % 2)\n",
        "data.shape"
      ]
    },
    {
      "cell_type": "code",
      "execution_count": null,
      "metadata": {
        "colab": {
          "base_uri": "https://localhost:8080/"
        },
        "id": "Z7hw4PLPyq1X",
        "outputId": "85e3febf-33fa-4c9a-bb10-b0a876c705f9"
      },
      "outputs": [
        {
          "output_type": "stream",
          "name": "stdout",
          "text": [
            "mZ found at:  8\n"
          ]
        }
      ],
      "source": [
        "doMZcut = True\n",
        "if doMZcut:\n",
        "    # find variable MZ\n",
        "    mz_position = -1\n",
        "    mj3_position = -1\n",
        "    mj4_position = -1\n",
        "    for counter, j in enumerate(which):\n",
        "        if keys[j] == 'mZ':\n",
        "            mz_position = counter\n",
        "        if keys[j] == 'mJ3':\n",
        "            mj3_position = counter\n",
        "        if keys[j] == 'mJ4':\n",
        "            mj4_position = counter\n",
        "\n",
        "\n",
        "    print('mZ found at: ',mz_position)\n",
        "    data = data[ (data[:,mz_position] >=80.) & (data[:,mz_position] <=100.)  &  (data[:,mj3_position] >0.) & (data[:,mj4_position] >0.) ]"
      ]
    },
    {
      "cell_type": "code",
      "execution_count": null,
      "metadata": {
        "id": "Qzl7Ltvby45W"
      },
      "outputs": [],
      "source": [
        "data_sig = data[ data[:,0] == signalNumber ]\n",
        "data_ttv = data[ data[:,0] == 1 ]\n",
        "data_oth = data[ data[:,0] == 2 ]\n",
        "data_bkg = data[ (data[:,0] == 1) | (data[:,0] == 2) ]"
      ]
    },
    {
      "cell_type": "code",
      "execution_count": null,
      "metadata": {
        "colab": {
          "base_uri": "https://localhost:8080/"
        },
        "id": "cYnOuf9yy9mV",
        "outputId": "7b166ca9-0947-4b7f-802f-5637b8b8f258"
      },
      "outputs": [
        {
          "output_type": "stream",
          "name": "stdout",
          "text": [
            "Nsig:  16616 Nbkg 385804\n",
            "ttV 354409 other: 31395\n"
          ]
        }
      ],
      "source": [
        "print('Nsig: ', len(data_sig), 'Nbkg', len(data_bkg))\n",
        "print('ttV', len(data_ttv), 'other:', len(data_oth))"
      ]
    },
    {
      "cell_type": "code",
      "execution_count": null,
      "metadata": {
        "id": "8Z_LxaQNzBye"
      },
      "outputs": [],
      "source": [
        "def makePlot3(hsig, htop, hrest, bins, label, xtitle, pname, extralabel ):\n",
        "    monkeypatch_axis_labels()\n",
        "\n",
        "    plt.clf()\n",
        "    fig = plt.figure(figsize=(9,6))\n",
        "    ax = fig.add_subplot()\n",
        "    # Drawing shapes\n",
        "\n",
        "    plt.hist(bins[:-1], bins=bins, weights=htop, \n",
        "             label=\"ttV\", histtype='stepfilled', color='tab:blue')\n",
        "\n",
        "    plt.hist(bins[:-1], bins=bins, weights=hrest, bottom=htop,\n",
        "             label=\"other\", histtype='stepfilled', color='tab:olive')\n",
        "\n",
        "\n",
        "\n",
        "    # hsig to be normalized to the sum of backgrounds\n",
        "    total = sum(htop)+sum(hrest)\n",
        "    hsig = hsig * total / sum(hsig)\n",
        "\n",
        "    plt.hist(bins[:-1], bins=bins, weights=hsig, # bottom=Z_counts,\n",
        "             label=\"Signal\", histtype='step', color='tab:orange')\n",
        "    \n",
        "    plt.xlabel(xtitle, ha='right', x=0.95, size=16)\n",
        "    plt.ylabel(\"Events\", ha='right', y=0.95, size=16)\n",
        "    plt.xlim((bins[0], bins[-1]))\n",
        "    atlasify(\" Internal\", r\"$\\sqrt{s} = 13\\,\\mathrm{TeV}$ \"+label)\n",
        "    plt.text(0.05, 0.75, extralabel, fontsize=14,transform=ax.transAxes)\n",
        "    plt.tight_layout()\n",
        "    plt.savefig(pname+extralabel+\".png\")\n",
        "    plt.close()"
      ]
    },
    {
      "cell_type": "code",
      "source": [
        "!mkdir /content/plots"
      ],
      "metadata": {
        "id": "BTyozR3oIYcc",
        "colab": {
          "base_uri": "https://localhost:8080/"
        },
        "outputId": "c4f99d60-75c5-424c-bf7e-4db5b4160c95"
      },
      "execution_count": null,
      "outputs": [
        {
          "output_type": "stream",
          "name": "stdout",
          "text": [
            "mkdir: cannot create directory ‘/content/plots’: File exists\n"
          ]
        }
      ]
    },
    {
      "cell_type": "code",
      "execution_count": null,
      "metadata": {
        "colab": {
          "base_uri": "https://localhost:8080/",
          "height": 208
        },
        "id": "CQLzaIJmz28v",
        "outputId": "4ac32f26-44bb-4c8c-aee6-dd50381e5594"
      },
      "outputs": [
        {
          "output_type": "stream",
          "name": "stderr",
          "text": [
            "/usr/local/lib/python3.7/dist-packages/numpy/lib/histograms.py:906: RuntimeWarning: divide by zero encountered in true_divide\n",
            "  return n/db/n.sum(), bin_edges\n",
            "/usr/local/lib/python3.7/dist-packages/numpy/lib/histograms.py:906: RuntimeWarning: invalid value encountered in true_divide\n",
            "  return n/db/n.sum(), bin_edges\n",
            "/usr/local/lib/python3.7/dist-packages/ipykernel_launcher.py:26: UserWarning: Attempting to set identical left == right == 2.0 results in singular transformations; automatically expanding.\n",
            "/usr/local/lib/python3.7/dist-packages/numpy/lib/histograms.py:906: RuntimeWarning: divide by zero encountered in true_divide\n",
            "  return n/db/n.sum(), bin_edges\n",
            "/usr/local/lib/python3.7/dist-packages/numpy/lib/histograms.py:906: RuntimeWarning: invalid value encountered in true_divide\n",
            "  return n/db/n.sum(), bin_edges\n",
            "/usr/local/lib/python3.7/dist-packages/ipykernel_launcher.py:26: UserWarning: Attempting to set identical left == right == 1.0 results in singular transformations; automatically expanding.\n"
          ]
        },
        {
          "output_type": "display_data",
          "data": {
            "text/plain": [
              "<Figure size 432x288 with 0 Axes>"
            ]
          },
          "metadata": {}
        }
      ],
      "source": [
        "doPlots = True\n",
        "folder = '/content/plots/'\n",
        "dft = pd.DataFrame()\n",
        "if doPlots:\n",
        "    for counter,j in enumerate(which[4:]):   # loop through the list of varibales start at position 4 (ignore Tags)\n",
        "        tagi = keys[j] # Name of varible\n",
        "\n",
        "    #    print(tagi)\n",
        "        #continue\n",
        "\n",
        "        dat_bkg_ = data_bkg[:,4+counter]    # Filtering out all the background data for signals and varibles \n",
        "        dat_sig_ = data_sig[:,4+counter]\n",
        "\n",
        "        dat_ttv_ = data_ttv[:,4+counter]\n",
        "        dat_oth_ = data_oth[:,4+counter]\n",
        "\n",
        "        # get the min and max values to calibrate the plot axes\n",
        "        the_min = np.amin(dat_bkg_)\n",
        "        the_min = min(np.amin(dat_sig_), the_min)\n",
        "\n",
        "        the_max = np.amax(dat_bkg_)\n",
        "        the_max = max(np.amax(dat_sig_), the_max)\n",
        "\n",
        "        # clip the plot axis dependent on values being small\n",
        "        nbkg = len(dat_bkg_)\n",
        "        for k in [0.5, 0.4, 0.3, 0.2, 0.1]:\n",
        "            if len(dat_bkg_[dat_bkg_[:] < the_max*k  ] )/nbkg > 0.95:\n",
        "                #print( 'will shorten plot',tag,'to', the_max,'x',k)\n",
        "                the_max = the_max*k\n",
        "        the_max_sig = max(np.amax(dat_sig_), the_max)\n",
        "        for k in [0.5, 0.4, 0.3, 0.2, 0.1]:\n",
        "            if len(dat_sig_[dat_sig_[:] < the_max_sig*k  ] )/nbkg > 0.95:\n",
        "                the_max_sig = the_max_sig*k\n",
        "        the_max = max(the_max, the_max_sig)\n",
        "\n",
        "        if the_min > the_max or (the_min != the_min) or (the_max != the_max):\n",
        "            print( 'fail plot', tagi, ': ', the_min, the_max)\n",
        "            continue\n",
        "        #bins = np.linspace(0, 200, 50)\n",
        "        bins = np.linspace(the_min, the_max, 50)\n",
        "\n",
        "        hbkg, hbkg_edge = np.histogram(dat_bkg_, bins=bins, weights=data_bkg[:,3], density=True  )\n",
        "        hsig, hsig_edge = np.histogram(dat_sig_, bins=bins, weights=data_sig[:,3], density=True  )\n",
        "\n",
        "        httv, _ = np.histogram(dat_ttv_, bins=bins, weights=data_ttv[:,3], density=False  )\n",
        "        hoth, _ = np.histogram(dat_oth_, bins=bins, weights=data_oth[:,3], density=False  )\n",
        "\n",
        "        n = hsig.mean()+hbkg.mean() #Total number of mean events\n",
        "        b = hbkg.mean() #Mean of background events\n",
        "        Z = math.sqrt(2 * (n * math.log(n / b) - (n -b))) #Significence equation\n",
        "        if n < b:\n",
        "          Z = -Z\n",
        "        \n",
        "        dz_dn = math.log(n/b) / math.sqrt(2) * math.sqrt(n*math.log(n/b) - n+b)\n",
        "        dz_db = -(n+b) / math.sqrt(2) * b * math.sqrt(n*math.log(n/b) - n+b)\n",
        "        Zq = math.sqrt( dz_dn**2 + dz_db**2)\n",
        "        \n",
        "        df = pd.DataFrame({\"Varible Name\": [tagi],\n",
        "                           \"Significence (linear)\": [Z],\n",
        "                           \"Significence (quadratic)\": [Zq]})\n",
        "\n",
        "        dft = pd.concat([dft,df])\n",
        "                              \n",
        "              \n",
        "        #makePlot(hsig, hbkg, bins, label, tagi, folder+'plot_'+ tagi, extralabel)\n",
        "        makePlot3(hsig, httv, hoth, bins, '', tagi, folder+'plot_'+ tagi, extralabel)"
      ]
    },
    {
      "cell_type": "code",
      "source": [
        "print(dft)"
      ],
      "metadata": {
        "id": "5e37bMvPPD9n",
        "colab": {
          "base_uri": "https://localhost:8080/"
        },
        "outputId": "d82aabdf-3422-4872-d407-dd17d87a8c97"
      },
      "execution_count": null,
      "outputs": [
        {
          "output_type": "stream",
          "name": "stdout",
          "text": [
            "   Varible Name  Significence (linear)  Significence (quadratic)\n",
            "0         NTags                    NaN                       NaN\n",
            "0      NSigJets               0.253737                  0.087978\n",
            "0  NForwardJets               0.393087                  0.138260\n",
            "0            mH               0.014306                  0.004958\n",
            "0            mZ               0.196550                  0.068123\n",
            "0           MET               0.023836                  0.008261\n",
            "0           mJ1               0.061881                  0.021446\n",
            "0           mJ2               0.088082                  0.030527\n",
            "0           mJ3               0.057704                  0.019999\n",
            "0           mJ4               0.061288                  0.021241\n",
            "0           mVH               0.013555                  0.004698\n",
            "0           pTH               0.020578                  0.007132\n",
            "0           pTZ               0.021302                  0.007383\n",
            "0          etaH               0.234313                  0.081226\n",
            "0          pTJ1               0.025713                  0.008911\n",
            "0          pTJ2               0.036290                  0.012577\n",
            "0          pTJ3               0.020063                  0.006953\n",
            "0          pTJ4               0.025422                  0.008811\n",
            "0          pTVH               0.020390                  0.007067\n",
            "0          phiH               0.350660                  0.122258\n",
            "0         etaJ1               0.393089                  0.138261\n",
            "0         etaJ2               0.393090                  0.138261\n",
            "0         etaJ3               0.393088                  0.138260\n",
            "0         etaJ4               0.393089                  0.138261\n",
            "0         etaVH               0.204543                  0.070895\n",
            "0         mWHad               0.016488                  0.005714\n",
            "0         mWLep               0.022093                  0.007657\n",
            "0         phiJ1               0.350661                  0.122258\n",
            "0         phiJ2               0.350659                  0.122257\n",
            "0         phiJ3               0.350659                  0.122257\n",
            "0         phiJ4               0.350659                  0.122257\n",
            "0         phiVH               0.350660                  0.122258\n",
            "0        METSig               0.146809                  0.050880\n",
            "0        pTLep1               0.025707                  0.008909\n",
            "0        pTLep2               0.036275                  0.012572\n",
            "0        pTLep3               0.022405                  0.007765\n",
            "0        pTWHad               0.020170                  0.006990\n",
            "0        pTWLep               0.023513                  0.008149\n",
            "0        pTZ_nu               0.021302                  0.007383\n",
            "0        phiMET               0.350659                  0.122257\n",
            "0       dM_VH_H               0.018144                  0.006288\n",
            "0       etaLep1               0.378429                  0.132596\n",
            "0       etaLep2               0.378329                  0.132558\n",
            "0       etaLep3               0.378283                  0.132540\n",
            "0       phiLep1               0.350659                  0.122257\n",
            "0       phiLep2               0.350660                  0.122258\n",
            "0       phiLep3               0.350659                  0.122257\n",
            "0      mWLep_nu               0.016900                  0.005857\n",
            "0      topHad_m               0.015438                  0.005351\n",
            "0      topLep_m               0.020927                  0.007253\n",
            "0      typeLep1               0.878970                  1.353190\n",
            "0      typeLep2               0.878970                  1.353190\n",
            "0      typeLep3               0.878970                  1.353190\n",
            "0          OSSF                    NaN                       NaN\n"
          ]
        }
      ]
    },
    {
      "cell_type": "code",
      "source": [
        "dft1 = dft.sort_values(by = ['Significence (quadratic)'])\n",
        "dft1"
      ],
      "metadata": {
        "id": "fwNZ2TMl6r6y",
        "colab": {
          "base_uri": "https://localhost:8080/",
          "height": 1000
        },
        "outputId": "0c6a6298-0789-4343-d147-44023bb37623"
      },
      "execution_count": null,
      "outputs": [
        {
          "output_type": "execute_result",
          "data": {
            "text/plain": [
              "   Varible Name  Significence (linear)  Significence (quadratic)\n",
              "0           mVH               0.013555                  0.004698\n",
              "0            mH               0.014306                  0.004958\n",
              "0      topHad_m               0.015438                  0.005351\n",
              "0         mWHad               0.016488                  0.005714\n",
              "0      mWLep_nu               0.016900                  0.005857\n",
              "0       dM_VH_H               0.018144                  0.006288\n",
              "0          pTJ3               0.020063                  0.006953\n",
              "0        pTWHad               0.020170                  0.006990\n",
              "0          pTVH               0.020390                  0.007067\n",
              "0           pTH               0.020578                  0.007132\n",
              "0      topLep_m               0.020927                  0.007253\n",
              "0           pTZ               0.021302                  0.007383\n",
              "0        pTZ_nu               0.021302                  0.007383\n",
              "0         mWLep               0.022093                  0.007657\n",
              "0        pTLep3               0.022405                  0.007765\n",
              "0        pTWLep               0.023513                  0.008149\n",
              "0           MET               0.023836                  0.008261\n",
              "0          pTJ4               0.025422                  0.008811\n",
              "0        pTLep1               0.025707                  0.008909\n",
              "0          pTJ1               0.025713                  0.008911\n",
              "0        pTLep2               0.036275                  0.012572\n",
              "0          pTJ2               0.036290                  0.012577\n",
              "0           mJ3               0.057704                  0.019999\n",
              "0           mJ4               0.061288                  0.021241\n",
              "0           mJ1               0.061881                  0.021446\n",
              "0           mJ2               0.088082                  0.030527\n",
              "0        METSig               0.146809                  0.050880\n",
              "0            mZ               0.196550                  0.068123\n",
              "0         etaVH               0.204543                  0.070895\n",
              "0          etaH               0.234313                  0.081226\n",
              "0      NSigJets               0.253737                  0.087978\n",
              "0         phiJ4               0.350659                  0.122257\n",
              "0       phiLep3               0.350659                  0.122257\n",
              "0        phiMET               0.350659                  0.122257\n",
              "0         phiJ2               0.350659                  0.122257\n",
              "0       phiLep1               0.350659                  0.122257\n",
              "0         phiJ3               0.350659                  0.122257\n",
              "0       phiLep2               0.350660                  0.122258\n",
              "0          phiH               0.350660                  0.122258\n",
              "0         phiVH               0.350660                  0.122258\n",
              "0         phiJ1               0.350661                  0.122258\n",
              "0       etaLep3               0.378283                  0.132540\n",
              "0       etaLep2               0.378329                  0.132558\n",
              "0       etaLep1               0.378429                  0.132596\n",
              "0  NForwardJets               0.393087                  0.138260\n",
              "0         etaJ3               0.393088                  0.138260\n",
              "0         etaJ4               0.393089                  0.138261\n",
              "0         etaJ1               0.393089                  0.138261\n",
              "0         etaJ2               0.393090                  0.138261\n",
              "0      typeLep2               0.878970                  1.353190\n",
              "0      typeLep1               0.878970                  1.353190\n",
              "0      typeLep3               0.878970                  1.353190\n",
              "0         NTags                    NaN                       NaN\n",
              "0          OSSF                    NaN                       NaN"
            ],
            "text/html": [
              "\n",
              "  <div id=\"df-fb00087a-c15b-435b-bd17-dca72795f258\">\n",
              "    <div class=\"colab-df-container\">\n",
              "      <div>\n",
              "<style scoped>\n",
              "    .dataframe tbody tr th:only-of-type {\n",
              "        vertical-align: middle;\n",
              "    }\n",
              "\n",
              "    .dataframe tbody tr th {\n",
              "        vertical-align: top;\n",
              "    }\n",
              "\n",
              "    .dataframe thead th {\n",
              "        text-align: right;\n",
              "    }\n",
              "</style>\n",
              "<table border=\"1\" class=\"dataframe\">\n",
              "  <thead>\n",
              "    <tr style=\"text-align: right;\">\n",
              "      <th></th>\n",
              "      <th>Varible Name</th>\n",
              "      <th>Significence (linear)</th>\n",
              "      <th>Significence (quadratic)</th>\n",
              "    </tr>\n",
              "  </thead>\n",
              "  <tbody>\n",
              "    <tr>\n",
              "      <th>0</th>\n",
              "      <td>mVH</td>\n",
              "      <td>0.013555</td>\n",
              "      <td>0.004698</td>\n",
              "    </tr>\n",
              "    <tr>\n",
              "      <th>0</th>\n",
              "      <td>mH</td>\n",
              "      <td>0.014306</td>\n",
              "      <td>0.004958</td>\n",
              "    </tr>\n",
              "    <tr>\n",
              "      <th>0</th>\n",
              "      <td>topHad_m</td>\n",
              "      <td>0.015438</td>\n",
              "      <td>0.005351</td>\n",
              "    </tr>\n",
              "    <tr>\n",
              "      <th>0</th>\n",
              "      <td>mWHad</td>\n",
              "      <td>0.016488</td>\n",
              "      <td>0.005714</td>\n",
              "    </tr>\n",
              "    <tr>\n",
              "      <th>0</th>\n",
              "      <td>mWLep_nu</td>\n",
              "      <td>0.016900</td>\n",
              "      <td>0.005857</td>\n",
              "    </tr>\n",
              "    <tr>\n",
              "      <th>0</th>\n",
              "      <td>dM_VH_H</td>\n",
              "      <td>0.018144</td>\n",
              "      <td>0.006288</td>\n",
              "    </tr>\n",
              "    <tr>\n",
              "      <th>0</th>\n",
              "      <td>pTJ3</td>\n",
              "      <td>0.020063</td>\n",
              "      <td>0.006953</td>\n",
              "    </tr>\n",
              "    <tr>\n",
              "      <th>0</th>\n",
              "      <td>pTWHad</td>\n",
              "      <td>0.020170</td>\n",
              "      <td>0.006990</td>\n",
              "    </tr>\n",
              "    <tr>\n",
              "      <th>0</th>\n",
              "      <td>pTVH</td>\n",
              "      <td>0.020390</td>\n",
              "      <td>0.007067</td>\n",
              "    </tr>\n",
              "    <tr>\n",
              "      <th>0</th>\n",
              "      <td>pTH</td>\n",
              "      <td>0.020578</td>\n",
              "      <td>0.007132</td>\n",
              "    </tr>\n",
              "    <tr>\n",
              "      <th>0</th>\n",
              "      <td>topLep_m</td>\n",
              "      <td>0.020927</td>\n",
              "      <td>0.007253</td>\n",
              "    </tr>\n",
              "    <tr>\n",
              "      <th>0</th>\n",
              "      <td>pTZ</td>\n",
              "      <td>0.021302</td>\n",
              "      <td>0.007383</td>\n",
              "    </tr>\n",
              "    <tr>\n",
              "      <th>0</th>\n",
              "      <td>pTZ_nu</td>\n",
              "      <td>0.021302</td>\n",
              "      <td>0.007383</td>\n",
              "    </tr>\n",
              "    <tr>\n",
              "      <th>0</th>\n",
              "      <td>mWLep</td>\n",
              "      <td>0.022093</td>\n",
              "      <td>0.007657</td>\n",
              "    </tr>\n",
              "    <tr>\n",
              "      <th>0</th>\n",
              "      <td>pTLep3</td>\n",
              "      <td>0.022405</td>\n",
              "      <td>0.007765</td>\n",
              "    </tr>\n",
              "    <tr>\n",
              "      <th>0</th>\n",
              "      <td>pTWLep</td>\n",
              "      <td>0.023513</td>\n",
              "      <td>0.008149</td>\n",
              "    </tr>\n",
              "    <tr>\n",
              "      <th>0</th>\n",
              "      <td>MET</td>\n",
              "      <td>0.023836</td>\n",
              "      <td>0.008261</td>\n",
              "    </tr>\n",
              "    <tr>\n",
              "      <th>0</th>\n",
              "      <td>pTJ4</td>\n",
              "      <td>0.025422</td>\n",
              "      <td>0.008811</td>\n",
              "    </tr>\n",
              "    <tr>\n",
              "      <th>0</th>\n",
              "      <td>pTLep1</td>\n",
              "      <td>0.025707</td>\n",
              "      <td>0.008909</td>\n",
              "    </tr>\n",
              "    <tr>\n",
              "      <th>0</th>\n",
              "      <td>pTJ1</td>\n",
              "      <td>0.025713</td>\n",
              "      <td>0.008911</td>\n",
              "    </tr>\n",
              "    <tr>\n",
              "      <th>0</th>\n",
              "      <td>pTLep2</td>\n",
              "      <td>0.036275</td>\n",
              "      <td>0.012572</td>\n",
              "    </tr>\n",
              "    <tr>\n",
              "      <th>0</th>\n",
              "      <td>pTJ2</td>\n",
              "      <td>0.036290</td>\n",
              "      <td>0.012577</td>\n",
              "    </tr>\n",
              "    <tr>\n",
              "      <th>0</th>\n",
              "      <td>mJ3</td>\n",
              "      <td>0.057704</td>\n",
              "      <td>0.019999</td>\n",
              "    </tr>\n",
              "    <tr>\n",
              "      <th>0</th>\n",
              "      <td>mJ4</td>\n",
              "      <td>0.061288</td>\n",
              "      <td>0.021241</td>\n",
              "    </tr>\n",
              "    <tr>\n",
              "      <th>0</th>\n",
              "      <td>mJ1</td>\n",
              "      <td>0.061881</td>\n",
              "      <td>0.021446</td>\n",
              "    </tr>\n",
              "    <tr>\n",
              "      <th>0</th>\n",
              "      <td>mJ2</td>\n",
              "      <td>0.088082</td>\n",
              "      <td>0.030527</td>\n",
              "    </tr>\n",
              "    <tr>\n",
              "      <th>0</th>\n",
              "      <td>METSig</td>\n",
              "      <td>0.146809</td>\n",
              "      <td>0.050880</td>\n",
              "    </tr>\n",
              "    <tr>\n",
              "      <th>0</th>\n",
              "      <td>mZ</td>\n",
              "      <td>0.196550</td>\n",
              "      <td>0.068123</td>\n",
              "    </tr>\n",
              "    <tr>\n",
              "      <th>0</th>\n",
              "      <td>etaVH</td>\n",
              "      <td>0.204543</td>\n",
              "      <td>0.070895</td>\n",
              "    </tr>\n",
              "    <tr>\n",
              "      <th>0</th>\n",
              "      <td>etaH</td>\n",
              "      <td>0.234313</td>\n",
              "      <td>0.081226</td>\n",
              "    </tr>\n",
              "    <tr>\n",
              "      <th>0</th>\n",
              "      <td>NSigJets</td>\n",
              "      <td>0.253737</td>\n",
              "      <td>0.087978</td>\n",
              "    </tr>\n",
              "    <tr>\n",
              "      <th>0</th>\n",
              "      <td>phiJ4</td>\n",
              "      <td>0.350659</td>\n",
              "      <td>0.122257</td>\n",
              "    </tr>\n",
              "    <tr>\n",
              "      <th>0</th>\n",
              "      <td>phiLep3</td>\n",
              "      <td>0.350659</td>\n",
              "      <td>0.122257</td>\n",
              "    </tr>\n",
              "    <tr>\n",
              "      <th>0</th>\n",
              "      <td>phiMET</td>\n",
              "      <td>0.350659</td>\n",
              "      <td>0.122257</td>\n",
              "    </tr>\n",
              "    <tr>\n",
              "      <th>0</th>\n",
              "      <td>phiJ2</td>\n",
              "      <td>0.350659</td>\n",
              "      <td>0.122257</td>\n",
              "    </tr>\n",
              "    <tr>\n",
              "      <th>0</th>\n",
              "      <td>phiLep1</td>\n",
              "      <td>0.350659</td>\n",
              "      <td>0.122257</td>\n",
              "    </tr>\n",
              "    <tr>\n",
              "      <th>0</th>\n",
              "      <td>phiJ3</td>\n",
              "      <td>0.350659</td>\n",
              "      <td>0.122257</td>\n",
              "    </tr>\n",
              "    <tr>\n",
              "      <th>0</th>\n",
              "      <td>phiLep2</td>\n",
              "      <td>0.350660</td>\n",
              "      <td>0.122258</td>\n",
              "    </tr>\n",
              "    <tr>\n",
              "      <th>0</th>\n",
              "      <td>phiH</td>\n",
              "      <td>0.350660</td>\n",
              "      <td>0.122258</td>\n",
              "    </tr>\n",
              "    <tr>\n",
              "      <th>0</th>\n",
              "      <td>phiVH</td>\n",
              "      <td>0.350660</td>\n",
              "      <td>0.122258</td>\n",
              "    </tr>\n",
              "    <tr>\n",
              "      <th>0</th>\n",
              "      <td>phiJ1</td>\n",
              "      <td>0.350661</td>\n",
              "      <td>0.122258</td>\n",
              "    </tr>\n",
              "    <tr>\n",
              "      <th>0</th>\n",
              "      <td>etaLep3</td>\n",
              "      <td>0.378283</td>\n",
              "      <td>0.132540</td>\n",
              "    </tr>\n",
              "    <tr>\n",
              "      <th>0</th>\n",
              "      <td>etaLep2</td>\n",
              "      <td>0.378329</td>\n",
              "      <td>0.132558</td>\n",
              "    </tr>\n",
              "    <tr>\n",
              "      <th>0</th>\n",
              "      <td>etaLep1</td>\n",
              "      <td>0.378429</td>\n",
              "      <td>0.132596</td>\n",
              "    </tr>\n",
              "    <tr>\n",
              "      <th>0</th>\n",
              "      <td>NForwardJets</td>\n",
              "      <td>0.393087</td>\n",
              "      <td>0.138260</td>\n",
              "    </tr>\n",
              "    <tr>\n",
              "      <th>0</th>\n",
              "      <td>etaJ3</td>\n",
              "      <td>0.393088</td>\n",
              "      <td>0.138260</td>\n",
              "    </tr>\n",
              "    <tr>\n",
              "      <th>0</th>\n",
              "      <td>etaJ4</td>\n",
              "      <td>0.393089</td>\n",
              "      <td>0.138261</td>\n",
              "    </tr>\n",
              "    <tr>\n",
              "      <th>0</th>\n",
              "      <td>etaJ1</td>\n",
              "      <td>0.393089</td>\n",
              "      <td>0.138261</td>\n",
              "    </tr>\n",
              "    <tr>\n",
              "      <th>0</th>\n",
              "      <td>etaJ2</td>\n",
              "      <td>0.393090</td>\n",
              "      <td>0.138261</td>\n",
              "    </tr>\n",
              "    <tr>\n",
              "      <th>0</th>\n",
              "      <td>typeLep2</td>\n",
              "      <td>0.878970</td>\n",
              "      <td>1.353190</td>\n",
              "    </tr>\n",
              "    <tr>\n",
              "      <th>0</th>\n",
              "      <td>typeLep1</td>\n",
              "      <td>0.878970</td>\n",
              "      <td>1.353190</td>\n",
              "    </tr>\n",
              "    <tr>\n",
              "      <th>0</th>\n",
              "      <td>typeLep3</td>\n",
              "      <td>0.878970</td>\n",
              "      <td>1.353190</td>\n",
              "    </tr>\n",
              "    <tr>\n",
              "      <th>0</th>\n",
              "      <td>NTags</td>\n",
              "      <td>NaN</td>\n",
              "      <td>NaN</td>\n",
              "    </tr>\n",
              "    <tr>\n",
              "      <th>0</th>\n",
              "      <td>OSSF</td>\n",
              "      <td>NaN</td>\n",
              "      <td>NaN</td>\n",
              "    </tr>\n",
              "  </tbody>\n",
              "</table>\n",
              "</div>\n",
              "      <button class=\"colab-df-convert\" onclick=\"convertToInteractive('df-fb00087a-c15b-435b-bd17-dca72795f258')\"\n",
              "              title=\"Convert this dataframe to an interactive table.\"\n",
              "              style=\"display:none;\">\n",
              "        \n",
              "  <svg xmlns=\"http://www.w3.org/2000/svg\" height=\"24px\"viewBox=\"0 0 24 24\"\n",
              "       width=\"24px\">\n",
              "    <path d=\"M0 0h24v24H0V0z\" fill=\"none\"/>\n",
              "    <path d=\"M18.56 5.44l.94 2.06.94-2.06 2.06-.94-2.06-.94-.94-2.06-.94 2.06-2.06.94zm-11 1L8.5 8.5l.94-2.06 2.06-.94-2.06-.94L8.5 2.5l-.94 2.06-2.06.94zm10 10l.94 2.06.94-2.06 2.06-.94-2.06-.94-.94-2.06-.94 2.06-2.06.94z\"/><path d=\"M17.41 7.96l-1.37-1.37c-.4-.4-.92-.59-1.43-.59-.52 0-1.04.2-1.43.59L10.3 9.45l-7.72 7.72c-.78.78-.78 2.05 0 2.83L4 21.41c.39.39.9.59 1.41.59.51 0 1.02-.2 1.41-.59l7.78-7.78 2.81-2.81c.8-.78.8-2.07 0-2.86zM5.41 20L4 18.59l7.72-7.72 1.47 1.35L5.41 20z\"/>\n",
              "  </svg>\n",
              "      </button>\n",
              "      \n",
              "  <style>\n",
              "    .colab-df-container {\n",
              "      display:flex;\n",
              "      flex-wrap:wrap;\n",
              "      gap: 12px;\n",
              "    }\n",
              "\n",
              "    .colab-df-convert {\n",
              "      background-color: #E8F0FE;\n",
              "      border: none;\n",
              "      border-radius: 50%;\n",
              "      cursor: pointer;\n",
              "      display: none;\n",
              "      fill: #1967D2;\n",
              "      height: 32px;\n",
              "      padding: 0 0 0 0;\n",
              "      width: 32px;\n",
              "    }\n",
              "\n",
              "    .colab-df-convert:hover {\n",
              "      background-color: #E2EBFA;\n",
              "      box-shadow: 0px 1px 2px rgba(60, 64, 67, 0.3), 0px 1px 3px 1px rgba(60, 64, 67, 0.15);\n",
              "      fill: #174EA6;\n",
              "    }\n",
              "\n",
              "    [theme=dark] .colab-df-convert {\n",
              "      background-color: #3B4455;\n",
              "      fill: #D2E3FC;\n",
              "    }\n",
              "\n",
              "    [theme=dark] .colab-df-convert:hover {\n",
              "      background-color: #434B5C;\n",
              "      box-shadow: 0px 1px 3px 1px rgba(0, 0, 0, 0.15);\n",
              "      filter: drop-shadow(0px 1px 2px rgba(0, 0, 0, 0.3));\n",
              "      fill: #FFFFFF;\n",
              "    }\n",
              "  </style>\n",
              "\n",
              "      <script>\n",
              "        const buttonEl =\n",
              "          document.querySelector('#df-fb00087a-c15b-435b-bd17-dca72795f258 button.colab-df-convert');\n",
              "        buttonEl.style.display =\n",
              "          google.colab.kernel.accessAllowed ? 'block' : 'none';\n",
              "\n",
              "        async function convertToInteractive(key) {\n",
              "          const element = document.querySelector('#df-fb00087a-c15b-435b-bd17-dca72795f258');\n",
              "          const dataTable =\n",
              "            await google.colab.kernel.invokeFunction('convertToInteractive',\n",
              "                                                     [key], {});\n",
              "          if (!dataTable) return;\n",
              "\n",
              "          const docLinkHtml = 'Like what you see? Visit the ' +\n",
              "            '<a target=\"_blank\" href=https://colab.research.google.com/notebooks/data_table.ipynb>data table notebook</a>'\n",
              "            + ' to learn more about interactive tables.';\n",
              "          element.innerHTML = '';\n",
              "          dataTable['output_type'] = 'display_data';\n",
              "          await google.colab.output.renderOutput(dataTable, element);\n",
              "          const docLink = document.createElement('div');\n",
              "          docLink.innerHTML = docLinkHtml;\n",
              "          element.appendChild(docLink);\n",
              "        }\n",
              "      </script>\n",
              "    </div>\n",
              "  </div>\n",
              "  "
            ]
          },
          "metadata": {},
          "execution_count": 38
        }
      ]
    },
    {
      "cell_type": "code",
      "source": [
        "dft2 = dft1.head(10)\n",
        "dft2"
      ],
      "metadata": {
        "colab": {
          "base_uri": "https://localhost:8080/",
          "height": 363
        },
        "id": "idXrVYHFfCAe",
        "outputId": "99bb6406-5be1-4895-9a45-c3fc8cbec661"
      },
      "execution_count": null,
      "outputs": [
        {
          "output_type": "execute_result",
          "data": {
            "text/plain": [
              "  Varible Name  Significence (linear)  Significence (quadratic)\n",
              "0          mVH               0.013555                  0.004698\n",
              "0           mH               0.014306                  0.004958\n",
              "0     topHad_m               0.015438                  0.005351\n",
              "0        mWHad               0.016488                  0.005714\n",
              "0     mWLep_nu               0.016900                  0.005857\n",
              "0      dM_VH_H               0.018144                  0.006288\n",
              "0         pTJ3               0.020063                  0.006953\n",
              "0       pTWHad               0.020170                  0.006990\n",
              "0         pTVH               0.020390                  0.007067\n",
              "0          pTH               0.020578                  0.007132"
            ],
            "text/html": [
              "\n",
              "  <div id=\"df-d6a57a9c-6e92-4aa4-886c-c6934eaade25\">\n",
              "    <div class=\"colab-df-container\">\n",
              "      <div>\n",
              "<style scoped>\n",
              "    .dataframe tbody tr th:only-of-type {\n",
              "        vertical-align: middle;\n",
              "    }\n",
              "\n",
              "    .dataframe tbody tr th {\n",
              "        vertical-align: top;\n",
              "    }\n",
              "\n",
              "    .dataframe thead th {\n",
              "        text-align: right;\n",
              "    }\n",
              "</style>\n",
              "<table border=\"1\" class=\"dataframe\">\n",
              "  <thead>\n",
              "    <tr style=\"text-align: right;\">\n",
              "      <th></th>\n",
              "      <th>Varible Name</th>\n",
              "      <th>Significence (linear)</th>\n",
              "      <th>Significence (quadratic)</th>\n",
              "    </tr>\n",
              "  </thead>\n",
              "  <tbody>\n",
              "    <tr>\n",
              "      <th>0</th>\n",
              "      <td>mVH</td>\n",
              "      <td>0.013555</td>\n",
              "      <td>0.004698</td>\n",
              "    </tr>\n",
              "    <tr>\n",
              "      <th>0</th>\n",
              "      <td>mH</td>\n",
              "      <td>0.014306</td>\n",
              "      <td>0.004958</td>\n",
              "    </tr>\n",
              "    <tr>\n",
              "      <th>0</th>\n",
              "      <td>topHad_m</td>\n",
              "      <td>0.015438</td>\n",
              "      <td>0.005351</td>\n",
              "    </tr>\n",
              "    <tr>\n",
              "      <th>0</th>\n",
              "      <td>mWHad</td>\n",
              "      <td>0.016488</td>\n",
              "      <td>0.005714</td>\n",
              "    </tr>\n",
              "    <tr>\n",
              "      <th>0</th>\n",
              "      <td>mWLep_nu</td>\n",
              "      <td>0.016900</td>\n",
              "      <td>0.005857</td>\n",
              "    </tr>\n",
              "    <tr>\n",
              "      <th>0</th>\n",
              "      <td>dM_VH_H</td>\n",
              "      <td>0.018144</td>\n",
              "      <td>0.006288</td>\n",
              "    </tr>\n",
              "    <tr>\n",
              "      <th>0</th>\n",
              "      <td>pTJ3</td>\n",
              "      <td>0.020063</td>\n",
              "      <td>0.006953</td>\n",
              "    </tr>\n",
              "    <tr>\n",
              "      <th>0</th>\n",
              "      <td>pTWHad</td>\n",
              "      <td>0.020170</td>\n",
              "      <td>0.006990</td>\n",
              "    </tr>\n",
              "    <tr>\n",
              "      <th>0</th>\n",
              "      <td>pTVH</td>\n",
              "      <td>0.020390</td>\n",
              "      <td>0.007067</td>\n",
              "    </tr>\n",
              "    <tr>\n",
              "      <th>0</th>\n",
              "      <td>pTH</td>\n",
              "      <td>0.020578</td>\n",
              "      <td>0.007132</td>\n",
              "    </tr>\n",
              "  </tbody>\n",
              "</table>\n",
              "</div>\n",
              "      <button class=\"colab-df-convert\" onclick=\"convertToInteractive('df-d6a57a9c-6e92-4aa4-886c-c6934eaade25')\"\n",
              "              title=\"Convert this dataframe to an interactive table.\"\n",
              "              style=\"display:none;\">\n",
              "        \n",
              "  <svg xmlns=\"http://www.w3.org/2000/svg\" height=\"24px\"viewBox=\"0 0 24 24\"\n",
              "       width=\"24px\">\n",
              "    <path d=\"M0 0h24v24H0V0z\" fill=\"none\"/>\n",
              "    <path d=\"M18.56 5.44l.94 2.06.94-2.06 2.06-.94-2.06-.94-.94-2.06-.94 2.06-2.06.94zm-11 1L8.5 8.5l.94-2.06 2.06-.94-2.06-.94L8.5 2.5l-.94 2.06-2.06.94zm10 10l.94 2.06.94-2.06 2.06-.94-2.06-.94-.94-2.06-.94 2.06-2.06.94z\"/><path d=\"M17.41 7.96l-1.37-1.37c-.4-.4-.92-.59-1.43-.59-.52 0-1.04.2-1.43.59L10.3 9.45l-7.72 7.72c-.78.78-.78 2.05 0 2.83L4 21.41c.39.39.9.59 1.41.59.51 0 1.02-.2 1.41-.59l7.78-7.78 2.81-2.81c.8-.78.8-2.07 0-2.86zM5.41 20L4 18.59l7.72-7.72 1.47 1.35L5.41 20z\"/>\n",
              "  </svg>\n",
              "      </button>\n",
              "      \n",
              "  <style>\n",
              "    .colab-df-container {\n",
              "      display:flex;\n",
              "      flex-wrap:wrap;\n",
              "      gap: 12px;\n",
              "    }\n",
              "\n",
              "    .colab-df-convert {\n",
              "      background-color: #E8F0FE;\n",
              "      border: none;\n",
              "      border-radius: 50%;\n",
              "      cursor: pointer;\n",
              "      display: none;\n",
              "      fill: #1967D2;\n",
              "      height: 32px;\n",
              "      padding: 0 0 0 0;\n",
              "      width: 32px;\n",
              "    }\n",
              "\n",
              "    .colab-df-convert:hover {\n",
              "      background-color: #E2EBFA;\n",
              "      box-shadow: 0px 1px 2px rgba(60, 64, 67, 0.3), 0px 1px 3px 1px rgba(60, 64, 67, 0.15);\n",
              "      fill: #174EA6;\n",
              "    }\n",
              "\n",
              "    [theme=dark] .colab-df-convert {\n",
              "      background-color: #3B4455;\n",
              "      fill: #D2E3FC;\n",
              "    }\n",
              "\n",
              "    [theme=dark] .colab-df-convert:hover {\n",
              "      background-color: #434B5C;\n",
              "      box-shadow: 0px 1px 3px 1px rgba(0, 0, 0, 0.15);\n",
              "      filter: drop-shadow(0px 1px 2px rgba(0, 0, 0, 0.3));\n",
              "      fill: #FFFFFF;\n",
              "    }\n",
              "  </style>\n",
              "\n",
              "      <script>\n",
              "        const buttonEl =\n",
              "          document.querySelector('#df-d6a57a9c-6e92-4aa4-886c-c6934eaade25 button.colab-df-convert');\n",
              "        buttonEl.style.display =\n",
              "          google.colab.kernel.accessAllowed ? 'block' : 'none';\n",
              "\n",
              "        async function convertToInteractive(key) {\n",
              "          const element = document.querySelector('#df-d6a57a9c-6e92-4aa4-886c-c6934eaade25');\n",
              "          const dataTable =\n",
              "            await google.colab.kernel.invokeFunction('convertToInteractive',\n",
              "                                                     [key], {});\n",
              "          if (!dataTable) return;\n",
              "\n",
              "          const docLinkHtml = 'Like what you see? Visit the ' +\n",
              "            '<a target=\"_blank\" href=https://colab.research.google.com/notebooks/data_table.ipynb>data table notebook</a>'\n",
              "            + ' to learn more about interactive tables.';\n",
              "          element.innerHTML = '';\n",
              "          dataTable['output_type'] = 'display_data';\n",
              "          await google.colab.output.renderOutput(dataTable, element);\n",
              "          const docLink = document.createElement('div');\n",
              "          docLink.innerHTML = docLinkHtml;\n",
              "          element.appendChild(docLink);\n",
              "        }\n",
              "      </script>\n",
              "    </div>\n",
              "  </div>\n",
              "  "
            ]
          },
          "metadata": {},
          "execution_count": 39
        }
      ]
    },
    {
      "cell_type": "code",
      "execution_count": null,
      "metadata": {
        "id": "IxXcuMlDjWdg",
        "colab": {
          "base_uri": "https://localhost:8080/"
        },
        "outputId": "418188d4-080a-425e-b0d2-24e2f2a96d99"
      },
      "outputs": [
        {
          "output_type": "stream",
          "name": "stdout",
          "text": [
            "updating: plot_dM_VH_HAZH_lltt_mA1200_mH600.png (deflated 12%)\n",
            "updating: plot_etaHAZH_lltt_mA1200_mH600.png (deflated 15%)\n",
            "updating: plot_etaJ1AZH_lltt_mA1200_mH600.png (deflated 12%)\n",
            "updating: plot_etaJ2AZH_lltt_mA1200_mH600.png (deflated 12%)\n",
            "updating: plot_etaJ3AZH_lltt_mA1200_mH600.png (deflated 11%)\n",
            "updating: plot_etaJ4AZH_lltt_mA1200_mH600.png (deflated 12%)\n",
            "updating: plot_etaLep1AZH_lltt_mA1200_mH600.png (deflated 11%)\n",
            "updating: plot_etaLep2AZH_lltt_mA1200_mH600.png (deflated 12%)\n",
            "updating: plot_etaLep3AZH_lltt_mA1200_mH600.png (deflated 12%)\n",
            "updating: plot_etaVHAZH_lltt_mA1200_mH600.png (deflated 12%)\n",
            "updating: plot_METAZH_lltt_mA1200_mH600.png (deflated 15%)\n",
            "updating: plot_METSigAZH_lltt_mA1200_mH600.png (deflated 15%)\n",
            "updating: plot_mHAZH_lltt_mA1200_mH600.png (deflated 16%)\n",
            "updating: plot_mJ1AZH_lltt_mA1200_mH600.png (deflated 15%)\n",
            "updating: plot_mJ2AZH_lltt_mA1200_mH600.png (deflated 16%)\n",
            "updating: plot_mJ3AZH_lltt_mA1200_mH600.png (deflated 15%)\n",
            "updating: plot_mJ4AZH_lltt_mA1200_mH600.png (deflated 16%)\n",
            "updating: plot_mVHAZH_lltt_mA1200_mH600.png (deflated 15%)\n",
            "updating: plot_mWHadAZH_lltt_mA1200_mH600.png (deflated 14%)\n",
            "updating: plot_mWLepAZH_lltt_mA1200_mH600.png (deflated 16%)\n",
            "updating: plot_mWLep_nuAZH_lltt_mA1200_mH600.png (deflated 14%)\n",
            "updating: plot_mZAZH_lltt_mA1200_mH600.png (deflated 12%)\n",
            "updating: plot_NForwardJetsAZH_lltt_mA1200_mH600.png (deflated 12%)\n",
            "updating: plot_NSigJetsAZH_lltt_mA1200_mH600.png (deflated 13%)\n",
            "updating: plot_NTagsAZH_lltt_mA1200_mH600.png (deflated 16%)\n",
            "updating: plot_OSSFAZH_lltt_mA1200_mH600.png (deflated 16%)\n",
            "updating: plot_phiHAZH_lltt_mA1200_mH600.png (deflated 11%)\n",
            "updating: plot_phiJ1AZH_lltt_mA1200_mH600.png (deflated 12%)\n",
            "updating: plot_phiJ2AZH_lltt_mA1200_mH600.png (deflated 10%)\n",
            "updating: plot_phiJ3AZH_lltt_mA1200_mH600.png (deflated 11%)\n",
            "updating: plot_phiJ4AZH_lltt_mA1200_mH600.png (deflated 10%)\n",
            "updating: plot_phiLep1AZH_lltt_mA1200_mH600.png (deflated 10%)\n",
            "updating: plot_phiLep2AZH_lltt_mA1200_mH600.png (deflated 10%)\n",
            "updating: plot_phiLep3AZH_lltt_mA1200_mH600.png (deflated 13%)\n",
            "updating: plot_phiMETAZH_lltt_mA1200_mH600.png (deflated 10%)\n",
            "updating: plot_phiVHAZH_lltt_mA1200_mH600.png (deflated 11%)\n",
            "updating: plot_pTHAZH_lltt_mA1200_mH600.png (deflated 13%)\n",
            "updating: plot_pTJ1AZH_lltt_mA1200_mH600.png (deflated 13%)\n",
            "updating: plot_pTJ2AZH_lltt_mA1200_mH600.png (deflated 14%)\n",
            "updating: plot_pTJ3AZH_lltt_mA1200_mH600.png (deflated 14%)\n",
            "updating: plot_pTJ4AZH_lltt_mA1200_mH600.png (deflated 14%)\n",
            "updating: plot_pTLep1AZH_lltt_mA1200_mH600.png (deflated 15%)\n",
            "updating: plot_pTLep2AZH_lltt_mA1200_mH600.png (deflated 13%)\n",
            "updating: plot_pTLep3AZH_lltt_mA1200_mH600.png (deflated 13%)\n",
            "updating: plot_pTVHAZH_lltt_mA1200_mH600.png (deflated 12%)\n",
            "updating: plot_pTWHadAZH_lltt_mA1200_mH600.png (deflated 14%)\n",
            "updating: plot_pTWLepAZH_lltt_mA1200_mH600.png (deflated 13%)\n",
            "updating: plot_pTZAZH_lltt_mA1200_mH600.png (deflated 12%)\n",
            "updating: plot_pTZ_nuAZH_lltt_mA1200_mH600.png (deflated 12%)\n",
            "updating: plot_topHad_mAZH_lltt_mA1200_mH600.png (deflated 15%)\n",
            "updating: plot_topLep_mAZH_lltt_mA1200_mH600.png (deflated 13%)\n",
            "updating: plot_typeLep1AZH_lltt_mA1200_mH600.png (deflated 14%)\n",
            "updating: plot_typeLep2AZH_lltt_mA1200_mH600.png (deflated 13%)\n",
            "updating: plot_typeLep3AZH_lltt_mA1200_mH600.png (deflated 14%)\n",
            "  adding: corr_heatmap_BDT_v00AZH_lltt_mA1200_mH600.png (deflated 9%)\n"
          ]
        }
      ],
      "source": [
        "!cd /content/plots; zip atlas_project_plots.zip *.png"
      ]
    },
    {
      "cell_type": "code",
      "execution_count": null,
      "metadata": {
        "id": "wVHcDWldcSZ5"
      },
      "outputs": [],
      "source": [
        "def correlation_heatmap(corr, v_mva, pname):\n",
        "    plt.clf()\n",
        "    fig, ax = plt.subplots(figsize=(10,10))\n",
        "    sns.heatmap(corr, vmax=1.0, center=0, fmt='.2f', cmap=\"YlGnBu\",\n",
        "                square=True, linewidths=.5, annot=True, cbar_kws={\"shrink\": .70},\n",
        "                xticklabels = v_mva, yticklabels=v_mva     )\n",
        "    ax.set(title=pname)\n",
        "    plt.savefig(pname+'.png')\n",
        "    plt.close()"
      ]
    },
    {
      "cell_type": "code",
      "source": [
        "# prepare dataset\n",
        "\n",
        "my_mva = [\n",
        "   'mVH','mH','topHad_m','mWHad','mWLep_nu','dM_VH_H','pTJ3','pTWHad','pTVH','pTH'  \n",
        "]\n",
        "\n",
        "var_list = [0,2,3,]\n",
        "var_keys = ['sample','eventnumber','weight',]  # sample is 0 for no higgs 1 for higgs present\n",
        "for counter,j in enumerate(which):\n",
        "    #print(j, keys[j], v_mva)\n",
        "    if keys[j] in my_mva:   # set as my_mva for machine learning and v_mva for full heat map\n",
        "        var_list.append(counter)\n",
        "        var_keys.append(keys[j])\n",
        "        print('using variable', keys[j], counter)\n",
        "print('doing MVA with ', len(var_list),'variables', var_list)\n",
        "data_bkg = data_bkg[:,var_list]\n",
        "data_sig = data_sig[:,var_list]\n",
        "\n",
        "data_bkg[:,0] = np.zeros( len(data_bkg)  ) \n",
        "data_sig[:,0] = np.ones( len(data_sig)  ) \n",
        "\n",
        "data_all = np.concatenate( (data_bkg, data_sig)  )\n",
        "#np.random.shuffle(data_all)"
      ],
      "metadata": {
        "colab": {
          "base_uri": "https://localhost:8080/",
          "height": 426
        },
        "id": "w-3GbnxIjCrA",
        "outputId": "59389f75-6be2-4d0b-ce0d-3396ab32e60f"
      },
      "execution_count": null,
      "outputs": [
        {
          "output_type": "stream",
          "name": "stdout",
          "text": [
            "using variable mH 7\n",
            "using variable mVH 14\n",
            "using variable pTH 15\n",
            "using variable pTJ3 20\n",
            "using variable pTVH 22\n",
            "using variable mWHad 29\n",
            "using variable pTWHad 40\n",
            "using variable dM_VH_H 44\n",
            "using variable mWLep_nu 51\n",
            "using variable topHad_m 52\n",
            "doing MVA with  13 variables [0, 2, 3, 7, 14, 15, 20, 22, 29, 40, 44, 51, 52]\n"
          ]
        },
        {
          "output_type": "error",
          "ename": "IndexError",
          "evalue": "ignored",
          "traceback": [
            "\u001b[0;31m---------------------------------------------------------------------------\u001b[0m",
            "\u001b[0;31mIndexError\u001b[0m                                Traceback (most recent call last)",
            "\u001b[0;32m<ipython-input-45-7f583af60b74>\u001b[0m in \u001b[0;36m<module>\u001b[0;34m()\u001b[0m\n\u001b[1;32m     14\u001b[0m         \u001b[0mprint\u001b[0m\u001b[0;34m(\u001b[0m\u001b[0;34m'using variable'\u001b[0m\u001b[0;34m,\u001b[0m \u001b[0mkeys\u001b[0m\u001b[0;34m[\u001b[0m\u001b[0mj\u001b[0m\u001b[0;34m]\u001b[0m\u001b[0;34m,\u001b[0m \u001b[0mcounter\u001b[0m\u001b[0;34m)\u001b[0m\u001b[0;34m\u001b[0m\u001b[0;34m\u001b[0m\u001b[0m\n\u001b[1;32m     15\u001b[0m \u001b[0mprint\u001b[0m\u001b[0;34m(\u001b[0m\u001b[0;34m'doing MVA with '\u001b[0m\u001b[0;34m,\u001b[0m \u001b[0mlen\u001b[0m\u001b[0;34m(\u001b[0m\u001b[0mvar_list\u001b[0m\u001b[0;34m)\u001b[0m\u001b[0;34m,\u001b[0m\u001b[0;34m'variables'\u001b[0m\u001b[0;34m,\u001b[0m \u001b[0mvar_list\u001b[0m\u001b[0;34m)\u001b[0m\u001b[0;34m\u001b[0m\u001b[0;34m\u001b[0m\u001b[0m\n\u001b[0;32m---> 16\u001b[0;31m \u001b[0mdata_bkg\u001b[0m \u001b[0;34m=\u001b[0m \u001b[0mdata_bkg\u001b[0m\u001b[0;34m[\u001b[0m\u001b[0;34m:\u001b[0m\u001b[0;34m,\u001b[0m\u001b[0mvar_list\u001b[0m\u001b[0;34m]\u001b[0m\u001b[0;34m\u001b[0m\u001b[0;34m\u001b[0m\u001b[0m\n\u001b[0m\u001b[1;32m     17\u001b[0m \u001b[0mdata_sig\u001b[0m \u001b[0;34m=\u001b[0m \u001b[0mdata_sig\u001b[0m\u001b[0;34m[\u001b[0m\u001b[0;34m:\u001b[0m\u001b[0;34m,\u001b[0m\u001b[0mvar_list\u001b[0m\u001b[0;34m]\u001b[0m\u001b[0;34m\u001b[0m\u001b[0;34m\u001b[0m\u001b[0m\n\u001b[1;32m     18\u001b[0m \u001b[0;34m\u001b[0m\u001b[0m\n",
            "\u001b[0;31mIndexError\u001b[0m: index 40 is out of bounds for axis 1 with size 31"
          ]
        }
      ]
    },
    {
      "cell_type": "code",
      "source": [
        "data_all = data_all[300000:400000]\n",
        "\n",
        "X = data_all[:,3:]\n",
        "y = data_all[:,0]\n",
        "kfold = data_all[:,1]\n",
        "w_or = data_all[:,2]"
      ],
      "metadata": {
        "id": "lLWmzlVz3BeD"
      },
      "execution_count": null,
      "outputs": []
    },
    {
      "cell_type": "code",
      "execution_count": null,
      "metadata": {
        "id": "pXyRQmRHb8UC",
        "colab": {
          "base_uri": "https://localhost:8080/",
          "height": 191
        },
        "outputId": "60f19eb8-6cbc-427f-b481-fe94b12bf8c7"
      },
      "outputs": [
        {
          "output_type": "stream",
          "name": "stdout",
          "text": [
            "weight 0 :  0\n",
            "weight + :  75963\n",
            "weight - :  24037\n",
            "Total    :  100000\n",
            "Testing statistics:\n",
            "Statistics: train:  sig: 9921.0\n",
            "                    bkg: 60079.0\n",
            "Statistics: test:   sig: 4275.0\n",
            "                    bkg: 25725.0\n"
          ]
        },
        {
          "output_type": "display_data",
          "data": {
            "text/plain": [
              "<Figure size 432x288 with 0 Axes>"
            ]
          },
          "metadata": {}
        }
      ],
      "source": [
        "print('weight 0 : ', sum(w_or==0))\n",
        "print('weight + : ', sum(w_or>0))\n",
        "print('weight - : ', sum(w_or<0))\n",
        "print('Total    : ', len(w_or))\n",
        "w_or = np.abs(w_or)\n",
        "\n",
        "\n",
        "# remove elements with zero\n",
        "X = X[ w_or>0 ]\n",
        "y = y[ w_or>0 ]\n",
        "kfold = kfold[ (w_or>0)  ]\n",
        "\n",
        "w_or = w_or[ w_or>0 ]\n",
        "\n",
        "\n",
        "# renormalize weights\n",
        "w = w_or /  np.mean(w_or)\n",
        "\n",
        "## for debugging purpose save these files\n",
        "np.save('X.npy',X)\n",
        "np.save('y.npy',y)\n",
        "np.save('w.npy',w)\n",
        "np.save('kfold.npy',kfold)\n",
        "\n",
        "## correlation matrix\n",
        "corr = np.corrcoef(X, rowvar=False)\n",
        "correlation_heatmap(corr, v_mva, '/content/plots/corr_heatmap_'+tag+extralabel)\n",
        "\n",
        "\n",
        "### split in two the samples for the 2-fold validation\n",
        "### odd vs even events\n",
        "X_0, y_0, w_0 = None, None, None\n",
        "X_1, y_1, w_1 = None, None, None\n",
        "\n",
        "do2foldCV = False\n",
        "if do2foldCV:\n",
        "    X_0 = X[ kfold==0 ]\n",
        "    y_0 = y[ kfold==0 ]\n",
        "    w_0 = w[ kfold==0 ]\n",
        "\n",
        "    X_1 = X[ kfold==1 ]\n",
        "    y_1 = y[ kfold==1 ]\n",
        "    w_1 = w[ kfold==1 ]\n",
        "\n",
        "\n",
        "test_size, train_size = 0.3, 0.7\n",
        "\n",
        "X_train, X_test, y_train, y_test, w_train, w_test = None, None, None, None, None, None\n",
        "X_0_train, X_0_test, y_0_train, y_0_test, w_0_train, w_0_test = None, None, None, None, None, None\n",
        "X_1_train, X_1_test, y_1_train, y_1_test, w_1_train, w_1_test = None, None, None, None, None, None\n",
        "\n",
        "if do2foldCV:\n",
        "    X_0_train, X_0_test, y_0_train, y_0_test, w_0_train, w_0_test =  train_test_split(X_0,y_0,w_0,test_size=test_size, train_size= train_size, random_state=42)\n",
        "    X_1_train, X_1_test, y_1_train, y_1_test, w_1_train, w_1_test =  train_test_split(X_0,y_0,w_0,test_size=test_size, train_size= train_size, random_state=43)\n",
        "    print('Testing statistics - 2-fold cross validation:')\n",
        "    print('ODD events')\n",
        "    print('Statistics: train:  sig:', np.sum(y_0_train))\n",
        "    print('                    bkg:', len(y_0_train)-np.sum(y_0_train))\n",
        "    print('Statistics: test:   sig:', np.sum(y_0_test))\n",
        "    print('                    bkg:', len(y_0_test)-np.sum(y_0_test))\n",
        "    print('EVEN events')\n",
        "    print('Statistics: train:  sig:', np.sum(y_1_train))\n",
        "    print('                    bkg:', len(y_1_train)-np.sum(y_1_train))\n",
        "    print('Statistics: test:   sig:', np.sum(y_1_test))\n",
        "    print('                    bkg:', len(y_1_test)-np.sum(y_1_test))\n",
        "\n",
        "else:\n",
        "    X_train, X_test, y_train, y_test, w_train, w_test = train_test_split(X,y,w,test_size=test_size, train_size= train_size, random_state=42)\n",
        "    print('Testing statistics:')\n",
        "    print('Statistics: train:  sig:', np.sum(y_train))\n",
        "    print('                    bkg:', len(y_train)-np.sum(y_train))\n",
        "\n",
        "    print('Statistics: test:   sig:', np.sum(y_test))\n",
        "    print('                    bkg:', len(y_test)-np.sum(y_test))\n",
        "\n"
      ]
    },
    {
      "cell_type": "code",
      "execution_count": null,
      "metadata": {
        "id": "gwFQUS7kIHgB",
        "colab": {
          "base_uri": "https://localhost:8080/",
          "height": 352
        },
        "outputId": "2af0cc24-0fb4-44ef-efba-1484bf49f544"
      },
      "outputs": [
        {
          "output_type": "stream",
          "name": "stdout",
          "text": [
            "[LibSVM][0.8804473814922794, 0.8980767299670696, 0.8979]\n"
          ]
        },
        {
          "output_type": "display_data",
          "data": {
            "text/plain": [
              "<Figure size 432x288 with 0 Axes>"
            ]
          },
          "metadata": {}
        },
        {
          "output_type": "display_data",
          "data": {
            "text/plain": [
              "<Figure size 432x288 with 0 Axes>"
            ]
          },
          "metadata": {}
        },
        {
          "output_type": "display_data",
          "data": {
            "text/plain": [
              "<Figure size 432x288 with 0 Axes>"
            ]
          },
          "metadata": {}
        },
        {
          "output_type": "display_data",
          "data": {
            "text/plain": [
              "<Figure size 432x288 with 1 Axes>"
            ],
            "image/png": "[encoded data removed]"
          },
          "metadata": {
            "needs_background": "light"
          }
        }
      ],
      "source": [
        "def makePlot(x_sig, x_bkg, \n",
        "             bins, xlabel, ylabel, lab_signal, \n",
        "             pname, label=None, doLog=False ):\n",
        "    plt.clf()\n",
        "    #plt.rc('font', family='Arial')\n",
        "    fig, axes = plt.subplots()\n",
        "\n",
        "    h_main,_,_=plt.hist(x_bkg, bins=bins,label=[lab_signal[1]],\n",
        "                        density=False, color='aqua')\n",
        "\n",
        "    hist,_,_ = plt.hist(x_sig, bins=bins,label=[lab_signal[0]], \n",
        "                        histtype=u'step', density=False, color='k')\n",
        "    \n",
        "\n",
        "    axes.set_xlabel(xlabel, fontsize=15)\n",
        "    axes.set_ylabel(ylabel, fontsize=15)\n",
        "    #axes.text(0.03, 0.93, 'ATLAS', fontweight='bold', fontsize=15, fontstyle='italic', transform=axes.transAxes)\n",
        "    #axes.text(0.2, 0.93, 'Internal', fontsize=15, transform=axes.transAxes)\n",
        "    if label is not None:\n",
        "        axes.text(0.03, 0.93, label, fontsize=12, transform=axes.transAxes)\n",
        "    axes.tick_params(direction='in')\n",
        "    \n",
        "\n",
        "    plt.ylim(bottom=0.0, top= max(max(hist),max(h_main))*1.2)\n",
        "    plt.legend() \n",
        "    plt.savefig(pname+\".png\")\n",
        "    if doLog:\n",
        "        plt.yscale('log')\n",
        "        plt.savefig(pname+\"_log.png\")\n",
        "\n",
        "\n",
        "\n",
        "\n",
        "def trainSVM2(x_train, y_train, x_test, y_test, doPlots=False):\n",
        "    kernel = 'rbf' # 'linear' 'rbf' 'sigmoid'\n",
        "    model = svm.SVC(kernel=kernel, probability=True,verbose=True)\n",
        "    model.fit(x_train, y_train)\n",
        "\n",
        "    # evaluate the output of the discriminant\n",
        "\n",
        "    prob_train = model.predict_proba(x_train)[:,1]\n",
        "    prob_test = model.predict_proba(x_test)[:,1]\n",
        "    #prob_all =  model.predict_proba(x)[:,1]\n",
        "\n",
        "    prob_train_signal = prob_train[y_train==1]\n",
        "    prob_train_bkg = prob_train[y_train==0]\n",
        "    prob_test_signal = prob_test[y_test==1]\n",
        "    prob_test_bkg = prob_test[y_test==0]\n",
        "\n",
        "    if doPlots:\n",
        "        bins = np.linspace(0.,1., 20)\n",
        "        makePlot(prob_train_signal, prob_train_bkg, bins, 'Cat 1 probability',\n",
        "                 'Entries',['Cat 1', 'Cat 0'], 'output_svm', 'Train sample')\n",
        "        makePlot(prob_test_signal, prob_test_bkg, bins, 'Cat 1 probability',\n",
        "                 'Entries',['Cat 1','Cat 0'],'output_test_svm', 'Test sample')\n",
        "\n",
        "\n",
        "        # Roc curves:\n",
        "        fpr, tpr, thresholds = roc_curve(y_test, prob_test)\n",
        "        fpr_tr, tpr_tr, thresholds_tr = roc_curve(y_train, prob_train)\n",
        "\n",
        "        plt.clf()\n",
        "        fig, axes = plt.subplots()\n",
        "        plt.plot(fpr, tpr, label='test sample')\n",
        "        plt.plot(fpr_tr, tpr_tr, label='train sample')\n",
        "        plt.legend()\n",
        "    \n",
        "        axes.set_xlabel('False positive rate', fontsize=15)\n",
        "        axes.set_ylabel('True positive rate', fontsize=15)\n",
        "        plt.savefig(\"roc_curve.png\")\n",
        "    \n",
        "    auc = roc_auc_score(y_test, prob_test)\n",
        "    auc_train = roc_auc_score(y_train, prob_train)\n",
        "\n",
        "    y_pred_test = (prob_test > 0.5)\n",
        "    \n",
        "    accu = np.sum(y_test == y_pred_test) / len(y_test) \n",
        "    #print(auc, auc_train)\n",
        "\n",
        "    return [auc, auc_train, accu]\n",
        "\n",
        "\n",
        "scaler = StandardScaler()\n",
        "scaler.fit(X_train)\n",
        "x_train_norm = scaler.transform(X_train)\n",
        "x_test_norm =  scaler.transform(X_test)\n",
        "\n",
        "res = trainSVM2(x_train_norm, y_train, x_test_norm, y_test,  True)\n",
        "print(res)\n"
      ]
    },
    {
      "cell_type": "code",
      "source": [
        "y_train"
      ],
      "metadata": {
        "colab": {
          "base_uri": "https://localhost:8080/"
        },
        "id": "r-a5XoVlxwKU",
        "outputId": "2561f048-1fdf-40f9-d3fe-1b0691f6e5e0"
      },
      "execution_count": null,
      "outputs": [
        {
          "output_type": "execute_result",
          "data": {
            "text/plain": [
              "array([0., 0., 0., ..., 0., 0., 0.])"
            ]
          },
          "metadata": {},
          "execution_count": 49
        }
      ]
    },
    {
      "cell_type": "code",
      "source": [
        "y_train"
      ],
      "metadata": {
        "colab": {
          "base_uri": "https://localhost:8080/"
        },
        "id": "GoZfKHX9xy4j",
        "outputId": "f5b0a939-f0db-41a7-aea6-58f2b72c6793"
      },
      "execution_count": null,
      "outputs": [
        {
          "output_type": "execute_result",
          "data": {
            "text/plain": [
              "array([0., 0., 0., ..., 0., 0., 0.])"
            ]
          },
          "metadata": {},
          "execution_count": 65
        }
      ]
    },
    {
      "cell_type": "code",
      "source": [
        "doFit = True\n",
        "doPlots = True\n",
        "\n",
        "##### make plot\n",
        "def makePlot(X1,X2, tag, Nb, **kwargs):\n",
        "    plt.clf()\n",
        "    \n",
        "    xtitle=tag\n",
        "    title = tag\n",
        "    for key, value in kwargs.items():\n",
        "        if key == \"xtitle\":\n",
        "            xtitle = value\n",
        "        elif key==\"title\":\n",
        "            title = value\n",
        "        \n",
        "\n",
        "    themin = min( [min(X1), min(X2)])\n",
        "    themax = max( [max(X1), max(X2)])\n",
        "    bins = np.linspace(themin, themax, Nb)\n",
        "\n",
        "    plt.hist(X1, bins=bins, density=True, label=['background'])\n",
        "    plt.hist(X2, bins=bins, density=True, label=['signal'], histtype=u'step')\n",
        "\n",
        "    plt.xlabel(xtitle)\n",
        "    plt.title(title)\n",
        "    plt.ylabel(\"# Entries (Norm)\")\n",
        "    plt.legend(loc='upper right')\n",
        "    plt.savefig(tag+\".png\")"
      ],
      "metadata": {
        "id": "b5_EoT3AeqTB"
      },
      "execution_count": null,
      "outputs": []
    },
    {
      "cell_type": "code",
      "source": [
        "if doFit:\n",
        "    # define the keras model\n",
        "    model = Sequential()\n",
        "    model.add(Dense(12, input_dim=10, activation='relu'))\n",
        "    model.add(Dense(8, activation='relu'))\n",
        "    model.add(Dense(1, activation='sigmoid'))\n",
        "    model.compile(loss='binary_crossentropy', optimizer='adam', metrics=['accuracy'])\n",
        "    history = model.fit(x_train_norm, y_train, epochs=150, batch_size=10,validation_data=(x_test_norm,y_test))\n",
        "    print(history.history.keys())\n",
        "    plt.clf()\n",
        "    plt.plot(history.history['accuracy'])\n",
        "    plt.plot(history.history['val_accuracy'])\n",
        "    plt.title('model accuracy')\n",
        "    plt.ylabel('accuracy')\n",
        "    plt.xlabel('epoch')\n",
        "    plt.legend(['train', 'val'], loc='upper left')\n",
        "    plt.savefig(\"/content/plots/model_accuracy.png\")\n",
        "    plt.clf()\n",
        "    plt.plot(history.history['loss'])\n",
        "    plt.plot(history.history['val_loss'])\n",
        "    plt.title('model loss')\n",
        "    plt.ylabel('loss')\n",
        "    plt.xlabel('epoch')\n",
        "    plt.legend(['train', 'val'], loc='upper left')\n",
        "    plt.savefig(\"/content/plots/model_loss.png\")\n",
        "    model.save(\"/content/models/my_model\")\n",
        "else:\n",
        "    model = keras.models.load_model(\"/content/models/my_model\")"
      ],
      "metadata": {
        "colab": {
          "base_uri": "https://localhost:8080/",
          "height": 1000
        },
        "id": "mt6jBg60AIqF",
        "outputId": "bd85a4b4-5950-45a9-a6ea-956bf8dcaf6a"
      },
      "execution_count": null,
      "outputs": [
        {
          "output_type": "stream",
          "name": "stdout",
          "text": [
            "Epoch 1/150\n",
            "7000/7000 [==============================] - 17s 2ms/step - loss: 0.2458 - accuracy: 0.8901 - val_loss: 0.2237 - val_accuracy: 0.8985\n",
            "Epoch 2/150\n",
            "7000/7000 [==============================] - 16s 2ms/step - loss: 0.2213 - accuracy: 0.9011 - val_loss: 0.2213 - val_accuracy: 0.9015\n",
            "Epoch 3/150\n",
            "7000/7000 [==============================] - 16s 2ms/step - loss: 0.2185 - accuracy: 0.9033 - val_loss: 0.2192 - val_accuracy: 0.9022\n",
            "Epoch 4/150\n",
            "7000/7000 [==============================] - 15s 2ms/step - loss: 0.2168 - accuracy: 0.9037 - val_loss: 0.2190 - val_accuracy: 0.9018\n",
            "Epoch 5/150\n",
            "7000/7000 [==============================] - 15s 2ms/step - loss: 0.2161 - accuracy: 0.9043 - val_loss: 0.2170 - val_accuracy: 0.9026\n",
            "Epoch 6/150\n",
            "7000/7000 [==============================] - 14s 2ms/step - loss: 0.2154 - accuracy: 0.9044 - val_loss: 0.2171 - val_accuracy: 0.9030\n",
            "Epoch 7/150\n",
            "7000/7000 [==============================] - 14s 2ms/step - loss: 0.2152 - accuracy: 0.9039 - val_loss: 0.2169 - val_accuracy: 0.9036\n",
            "Epoch 8/150\n",
            "7000/7000 [==============================] - 16s 2ms/step - loss: 0.2147 - accuracy: 0.9044 - val_loss: 0.2168 - val_accuracy: 0.9031\n",
            "Epoch 9/150\n",
            "7000/7000 [==============================] - 16s 2ms/step - loss: 0.2147 - accuracy: 0.9046 - val_loss: 0.2174 - val_accuracy: 0.9040\n",
            "Epoch 10/150\n",
            "7000/7000 [==============================] - 16s 2ms/step - loss: 0.2144 - accuracy: 0.9047 - val_loss: 0.2190 - val_accuracy: 0.9030\n",
            "Epoch 11/150\n",
            "7000/7000 [==============================] - 14s 2ms/step - loss: 0.2142 - accuracy: 0.9049 - val_loss: 0.2164 - val_accuracy: 0.9041\n",
            "Epoch 12/150\n",
            "7000/7000 [==============================] - 14s 2ms/step - loss: 0.2141 - accuracy: 0.9050 - val_loss: 0.2164 - val_accuracy: 0.9033\n",
            "Epoch 13/150\n",
            "7000/7000 [==============================] - 16s 2ms/step - loss: 0.2143 - accuracy: 0.9049 - val_loss: 0.2162 - val_accuracy: 0.9034\n",
            "Epoch 14/150\n",
            "7000/7000 [==============================] - 16s 2ms/step - loss: 0.2139 - accuracy: 0.9050 - val_loss: 0.2163 - val_accuracy: 0.9041\n",
            "Epoch 15/150\n",
            "7000/7000 [==============================] - 16s 2ms/step - loss: 0.2137 - accuracy: 0.9041 - val_loss: 0.2167 - val_accuracy: 0.9039\n",
            "Epoch 16/150\n",
            "7000/7000 [==============================] - 16s 2ms/step - loss: 0.2137 - accuracy: 0.9046 - val_loss: 0.2161 - val_accuracy: 0.9046\n",
            "Epoch 17/150\n",
            "7000/7000 [==============================] - 15s 2ms/step - loss: 0.2137 - accuracy: 0.9051 - val_loss: 0.2169 - val_accuracy: 0.9033\n",
            "Epoch 18/150\n",
            "7000/7000 [==============================] - 17s 2ms/step - loss: 0.2134 - accuracy: 0.9053 - val_loss: 0.2161 - val_accuracy: 0.9042\n",
            "Epoch 19/150\n",
            "7000/7000 [==============================] - 15s 2ms/step - loss: 0.2135 - accuracy: 0.9047 - val_loss: 0.2162 - val_accuracy: 0.9043\n",
            "Epoch 20/150\n",
            "7000/7000 [==============================] - 15s 2ms/step - loss: 0.2134 - accuracy: 0.9059 - val_loss: 0.2179 - val_accuracy: 0.9025\n",
            "Epoch 21/150\n",
            "7000/7000 [==============================] - 15s 2ms/step - loss: 0.2131 - accuracy: 0.9055 - val_loss: 0.2174 - val_accuracy: 0.9039\n",
            "Epoch 22/150\n",
            "7000/7000 [==============================] - 17s 2ms/step - loss: 0.2130 - accuracy: 0.9061 - val_loss: 0.2170 - val_accuracy: 0.9034\n",
            "Epoch 23/150\n",
            "7000/7000 [==============================] - 17s 2ms/step - loss: 0.2129 - accuracy: 0.9055 - val_loss: 0.2165 - val_accuracy: 0.9044\n",
            "Epoch 24/150\n",
            "7000/7000 [==============================] - 15s 2ms/step - loss: 0.2131 - accuracy: 0.9055 - val_loss: 0.2163 - val_accuracy: 0.9035\n",
            "Epoch 25/150\n",
            "7000/7000 [==============================] - 17s 2ms/step - loss: 0.2129 - accuracy: 0.9061 - val_loss: 0.2155 - val_accuracy: 0.9035\n",
            "Epoch 26/150\n",
            "7000/7000 [==============================] - 15s 2ms/step - loss: 0.2129 - accuracy: 0.9062 - val_loss: 0.2175 - val_accuracy: 0.9026\n",
            "Epoch 27/150\n",
            "7000/7000 [==============================] - 18s 3ms/step - loss: 0.2127 - accuracy: 0.9060 - val_loss: 0.2165 - val_accuracy: 0.9030\n",
            "Epoch 28/150\n",
            "7000/7000 [==============================] - 17s 2ms/step - loss: 0.2127 - accuracy: 0.9060 - val_loss: 0.2162 - val_accuracy: 0.9035\n",
            "Epoch 29/150\n",
            "7000/7000 [==============================] - 15s 2ms/step - loss: 0.2126 - accuracy: 0.9058 - val_loss: 0.2163 - val_accuracy: 0.9034\n",
            "Epoch 30/150\n",
            "7000/7000 [==============================] - 17s 2ms/step - loss: 0.2125 - accuracy: 0.9062 - val_loss: 0.2196 - val_accuracy: 0.9025\n",
            "Epoch 31/150\n",
            "7000/7000 [==============================] - 17s 2ms/step - loss: 0.2126 - accuracy: 0.9058 - val_loss: 0.2168 - val_accuracy: 0.9040\n",
            "Epoch 32/150\n",
            "7000/7000 [==============================] - 17s 2ms/step - loss: 0.2125 - accuracy: 0.9055 - val_loss: 0.2167 - val_accuracy: 0.9034\n",
            "Epoch 33/150\n",
            "7000/7000 [==============================] - 15s 2ms/step - loss: 0.2127 - accuracy: 0.9061 - val_loss: 0.2153 - val_accuracy: 0.9039\n",
            "Epoch 34/150\n",
            "7000/7000 [==============================] - 18s 3ms/step - loss: 0.2123 - accuracy: 0.9056 - val_loss: 0.2154 - val_accuracy: 0.9046\n",
            "Epoch 35/150\n",
            "7000/7000 [==============================] - 15s 2ms/step - loss: 0.2124 - accuracy: 0.9061 - val_loss: 0.2165 - val_accuracy: 0.9040\n",
            "Epoch 36/150\n",
            "7000/7000 [==============================] - 17s 2ms/step - loss: 0.2125 - accuracy: 0.9061 - val_loss: 0.2167 - val_accuracy: 0.9037\n",
            "Epoch 37/150\n",
            "7000/7000 [==============================] - 15s 2ms/step - loss: 0.2122 - accuracy: 0.9068 - val_loss: 0.2162 - val_accuracy: 0.9040\n",
            "Epoch 38/150\n",
            "7000/7000 [==============================] - 15s 2ms/step - loss: 0.2123 - accuracy: 0.9058 - val_loss: 0.2155 - val_accuracy: 0.9045\n",
            "Epoch 39/150\n",
            "7000/7000 [==============================] - 15s 2ms/step - loss: 0.2123 - accuracy: 0.9063 - val_loss: 0.2153 - val_accuracy: 0.9042\n",
            "Epoch 40/150\n",
            "7000/7000 [==============================] - 15s 2ms/step - loss: 0.2122 - accuracy: 0.9061 - val_loss: 0.2173 - val_accuracy: 0.9039\n",
            "Epoch 41/150\n",
            "7000/7000 [==============================] - 15s 2ms/step - loss: 0.2121 - accuracy: 0.9065 - val_loss: 0.2172 - val_accuracy: 0.9034\n",
            "Epoch 42/150\n",
            "7000/7000 [==============================] - 17s 2ms/step - loss: 0.2119 - accuracy: 0.9061 - val_loss: 0.2157 - val_accuracy: 0.9045\n",
            "Epoch 43/150\n",
            "7000/7000 [==============================] - 16s 2ms/step - loss: 0.2120 - accuracy: 0.9064 - val_loss: 0.2166 - val_accuracy: 0.9029\n",
            "Epoch 44/150\n",
            "7000/7000 [==============================] - 17s 2ms/step - loss: 0.2120 - accuracy: 0.9062 - val_loss: 0.2165 - val_accuracy: 0.9049\n",
            "Epoch 45/150\n",
            "7000/7000 [==============================] - 16s 2ms/step - loss: 0.2121 - accuracy: 0.9062 - val_loss: 0.2159 - val_accuracy: 0.9046\n",
            "Epoch 46/150\n",
            "7000/7000 [==============================] - 17s 2ms/step - loss: 0.2120 - accuracy: 0.9060 - val_loss: 0.2157 - val_accuracy: 0.9039\n",
            "Epoch 47/150\n",
            "7000/7000 [==============================] - 17s 2ms/step - loss: 0.2120 - accuracy: 0.9054 - val_loss: 0.2162 - val_accuracy: 0.9054\n",
            "Epoch 48/150\n",
            "7000/7000 [==============================] - 17s 2ms/step - loss: 0.2120 - accuracy: 0.9062 - val_loss: 0.2156 - val_accuracy: 0.9043\n",
            "Epoch 49/150\n",
            "7000/7000 [==============================] - 15s 2ms/step - loss: 0.2118 - accuracy: 0.9064 - val_loss: 0.2159 - val_accuracy: 0.9043\n",
            "Epoch 50/150\n",
            "7000/7000 [==============================] - 17s 2ms/step - loss: 0.2118 - accuracy: 0.9060 - val_loss: 0.2162 - val_accuracy: 0.9047\n",
            "Epoch 51/150\n",
            "7000/7000 [==============================] - 17s 2ms/step - loss: 0.2117 - accuracy: 0.9065 - val_loss: 0.2168 - val_accuracy: 0.9036\n",
            "Epoch 52/150\n",
            "7000/7000 [==============================] - 15s 2ms/step - loss: 0.2118 - accuracy: 0.9066 - val_loss: 0.2163 - val_accuracy: 0.9039\n",
            "Epoch 53/150\n",
            "7000/7000 [==============================] - 17s 2ms/step - loss: 0.2117 - accuracy: 0.9061 - val_loss: 0.2161 - val_accuracy: 0.9046\n",
            "Epoch 54/150\n",
            "7000/7000 [==============================] - 15s 2ms/step - loss: 0.2119 - accuracy: 0.9056 - val_loss: 0.2159 - val_accuracy: 0.9045\n",
            "Epoch 55/150\n",
            "7000/7000 [==============================] - 17s 2ms/step - loss: 0.2118 - accuracy: 0.9062 - val_loss: 0.2156 - val_accuracy: 0.9043\n",
            "Epoch 56/150\n",
            "7000/7000 [==============================] - 17s 2ms/step - loss: 0.2115 - accuracy: 0.9061 - val_loss: 0.2154 - val_accuracy: 0.9051\n",
            "Epoch 57/150\n",
            "7000/7000 [==============================] - 15s 2ms/step - loss: 0.2116 - accuracy: 0.9062 - val_loss: 0.2163 - val_accuracy: 0.9040\n",
            "Epoch 58/150\n",
            "7000/7000 [==============================] - 17s 2ms/step - loss: 0.2114 - accuracy: 0.9062 - val_loss: 0.2173 - val_accuracy: 0.9036\n",
            "Epoch 59/150\n",
            "7000/7000 [==============================] - 17s 2ms/step - loss: 0.2114 - accuracy: 0.9063 - val_loss: 0.2176 - val_accuracy: 0.9041\n",
            "Epoch 60/150\n",
            "7000/7000 [==============================] - 15s 2ms/step - loss: 0.2114 - accuracy: 0.9060 - val_loss: 0.2168 - val_accuracy: 0.9035\n",
            "Epoch 61/150\n",
            "7000/7000 [==============================] - 16s 2ms/step - loss: 0.2114 - accuracy: 0.9053 - val_loss: 0.2160 - val_accuracy: 0.9040\n",
            "Epoch 62/150\n",
            "7000/7000 [==============================] - 16s 2ms/step - loss: 0.2114 - accuracy: 0.9062 - val_loss: 0.2164 - val_accuracy: 0.9042\n",
            "Epoch 63/150\n",
            "7000/7000 [==============================] - 14s 2ms/step - loss: 0.2113 - accuracy: 0.9057 - val_loss: 0.2189 - val_accuracy: 0.9027\n",
            "Epoch 64/150\n",
            "7000/7000 [==============================] - 16s 2ms/step - loss: 0.2113 - accuracy: 0.9066 - val_loss: 0.2163 - val_accuracy: 0.9046\n",
            "Epoch 65/150\n",
            "7000/7000 [==============================] - 14s 2ms/step - loss: 0.2113 - accuracy: 0.9056 - val_loss: 0.2153 - val_accuracy: 0.9049\n",
            "Epoch 66/150\n",
            "7000/7000 [==============================] - 16s 2ms/step - loss: 0.2112 - accuracy: 0.9067 - val_loss: 0.2154 - val_accuracy: 0.9048\n",
            "Epoch 67/150\n",
            "7000/7000 [==============================] - 14s 2ms/step - loss: 0.2112 - accuracy: 0.9059 - val_loss: 0.2155 - val_accuracy: 0.9045\n",
            "Epoch 68/150\n",
            "7000/7000 [==============================] - 16s 2ms/step - loss: 0.2113 - accuracy: 0.9066 - val_loss: 0.2155 - val_accuracy: 0.9043\n",
            "Epoch 69/150\n",
            "7000/7000 [==============================] - 16s 2ms/step - loss: 0.2111 - accuracy: 0.9065 - val_loss: 0.2162 - val_accuracy: 0.9046\n",
            "Epoch 70/150\n",
            "7000/7000 [==============================] - 14s 2ms/step - loss: 0.2113 - accuracy: 0.9068 - val_loss: 0.2155 - val_accuracy: 0.9037\n",
            "Epoch 71/150\n",
            "7000/7000 [==============================] - 14s 2ms/step - loss: 0.2112 - accuracy: 0.9059 - val_loss: 0.2167 - val_accuracy: 0.9033\n",
            "Epoch 72/150\n",
            "7000/7000 [==============================] - 15s 2ms/step - loss: 0.2111 - accuracy: 0.9061 - val_loss: 0.2151 - val_accuracy: 0.9044\n",
            "Epoch 73/150\n",
            "7000/7000 [==============================] - 16s 2ms/step - loss: 0.2109 - accuracy: 0.9064 - val_loss: 0.2152 - val_accuracy: 0.9045\n",
            "Epoch 74/150\n",
            "7000/7000 [==============================] - 16s 2ms/step - loss: 0.2110 - accuracy: 0.9069 - val_loss: 0.2157 - val_accuracy: 0.9038\n",
            "Epoch 75/150\n",
            "7000/7000 [==============================] - 16s 2ms/step - loss: 0.2110 - accuracy: 0.9068 - val_loss: 0.2153 - val_accuracy: 0.9047\n",
            "Epoch 76/150\n",
            "7000/7000 [==============================] - 17s 2ms/step - loss: 0.2111 - accuracy: 0.9062 - val_loss: 0.2149 - val_accuracy: 0.9039\n",
            "Epoch 77/150\n",
            "7000/7000 [==============================] - 15s 2ms/step - loss: 0.2110 - accuracy: 0.9061 - val_loss: 0.2160 - val_accuracy: 0.9045\n",
            "Epoch 78/150\n",
            "7000/7000 [==============================] - 15s 2ms/step - loss: 0.2110 - accuracy: 0.9065 - val_loss: 0.2153 - val_accuracy: 0.9042\n",
            "Epoch 79/150\n",
            "7000/7000 [==============================] - 16s 2ms/step - loss: 0.2109 - accuracy: 0.9060 - val_loss: 0.2155 - val_accuracy: 0.9040\n",
            "Epoch 80/150\n",
            "7000/7000 [==============================] - 14s 2ms/step - loss: 0.2108 - accuracy: 0.9068 - val_loss: 0.2150 - val_accuracy: 0.9041\n",
            "Epoch 81/150\n",
            "7000/7000 [==============================] - 14s 2ms/step - loss: 0.2110 - accuracy: 0.9064 - val_loss: 0.2154 - val_accuracy: 0.9042\n",
            "Epoch 82/150\n",
            "7000/7000 [==============================] - 16s 2ms/step - loss: 0.2108 - accuracy: 0.9064 - val_loss: 0.2153 - val_accuracy: 0.9049\n",
            "Epoch 83/150\n",
            "7000/7000 [==============================] - 14s 2ms/step - loss: 0.2109 - accuracy: 0.9069 - val_loss: 0.2148 - val_accuracy: 0.9041\n",
            "Epoch 84/150\n",
            "7000/7000 [==============================] - 16s 2ms/step - loss: 0.2108 - accuracy: 0.9063 - val_loss: 0.2149 - val_accuracy: 0.9037\n",
            "Epoch 85/150\n",
            "7000/7000 [==============================] - 15s 2ms/step - loss: 0.2109 - accuracy: 0.9066 - val_loss: 0.2166 - val_accuracy: 0.9038\n",
            "Epoch 86/150\n",
            "7000/7000 [==============================] - 16s 2ms/step - loss: 0.2110 - accuracy: 0.9064 - val_loss: 0.2161 - val_accuracy: 0.9046\n",
            "Epoch 87/150\n",
            "7000/7000 [==============================] - 14s 2ms/step - loss: 0.2109 - accuracy: 0.9061 - val_loss: 0.2159 - val_accuracy: 0.9037\n",
            "Epoch 88/150\n",
            "7000/7000 [==============================] - 14s 2ms/step - loss: 0.2108 - accuracy: 0.9066 - val_loss: 0.2154 - val_accuracy: 0.9035\n",
            "Epoch 89/150\n",
            "7000/7000 [==============================] - 14s 2ms/step - loss: 0.2107 - accuracy: 0.9071 - val_loss: 0.2149 - val_accuracy: 0.9044\n",
            "Epoch 90/150\n",
            "7000/7000 [==============================] - 16s 2ms/step - loss: 0.2109 - accuracy: 0.9069 - val_loss: 0.2151 - val_accuracy: 0.9042\n",
            "Epoch 91/150\n",
            "7000/7000 [==============================] - 16s 2ms/step - loss: 0.2107 - accuracy: 0.9069 - val_loss: 0.2155 - val_accuracy: 0.9035\n",
            "Epoch 92/150\n",
            "7000/7000 [==============================] - 16s 2ms/step - loss: 0.2106 - accuracy: 0.9069 - val_loss: 0.2171 - val_accuracy: 0.9032\n",
            "Epoch 93/150\n",
            "7000/7000 [==============================] - 14s 2ms/step - loss: 0.2109 - accuracy: 0.9061 - val_loss: 0.2148 - val_accuracy: 0.9044\n",
            "Epoch 94/150\n",
            "7000/7000 [==============================] - 16s 2ms/step - loss: 0.2107 - accuracy: 0.9069 - val_loss: 0.2148 - val_accuracy: 0.9043\n",
            "Epoch 95/150\n",
            "7000/7000 [==============================] - 16s 2ms/step - loss: 0.2106 - accuracy: 0.9070 - val_loss: 0.2151 - val_accuracy: 0.9039\n",
            "Epoch 96/150\n",
            "7000/7000 [==============================] - 17s 2ms/step - loss: 0.2109 - accuracy: 0.9068 - val_loss: 0.2155 - val_accuracy: 0.9049\n",
            "Epoch 97/150\n",
            "7000/7000 [==============================] - 18s 3ms/step - loss: 0.2109 - accuracy: 0.9068 - val_loss: 0.2148 - val_accuracy: 0.9047\n",
            "Epoch 98/150\n",
            "7000/7000 [==============================] - 19s 3ms/step - loss: 0.2109 - accuracy: 0.9073 - val_loss: 0.2157 - val_accuracy: 0.9042\n",
            "Epoch 99/150\n",
            "7000/7000 [==============================] - 17s 2ms/step - loss: 0.2105 - accuracy: 0.9068 - val_loss: 0.2161 - val_accuracy: 0.9033\n",
            "Epoch 100/150\n",
            "7000/7000 [==============================] - 18s 3ms/step - loss: 0.2108 - accuracy: 0.9072 - val_loss: 0.2155 - val_accuracy: 0.9032\n",
            "Epoch 101/150\n",
            "7000/7000 [==============================] - 18s 3ms/step - loss: 0.2108 - accuracy: 0.9064 - val_loss: 0.2147 - val_accuracy: 0.9035\n",
            "Epoch 102/150\n",
            "7000/7000 [==============================] - 19s 3ms/step - loss: 0.2105 - accuracy: 0.9071 - val_loss: 0.2150 - val_accuracy: 0.9037\n",
            "Epoch 103/150\n",
            "7000/7000 [==============================] - 17s 2ms/step - loss: 0.2107 - accuracy: 0.9063 - val_loss: 0.2148 - val_accuracy: 0.9042\n",
            "Epoch 104/150\n",
            "7000/7000 [==============================] - 18s 3ms/step - loss: 0.2105 - accuracy: 0.9068 - val_loss: 0.2156 - val_accuracy: 0.9045\n",
            "Epoch 105/150\n",
            "7000/7000 [==============================] - 18s 3ms/step - loss: 0.2106 - accuracy: 0.9067 - val_loss: 0.2160 - val_accuracy: 0.9041\n",
            "Epoch 106/150\n",
            "7000/7000 [==============================] - 18s 3ms/step - loss: 0.2105 - accuracy: 0.9069 - val_loss: 0.2157 - val_accuracy: 0.9039\n",
            "Epoch 107/150\n",
            "7000/7000 [==============================] - 15s 2ms/step - loss: 0.2105 - accuracy: 0.9064 - val_loss: 0.2156 - val_accuracy: 0.9041\n",
            "Epoch 108/150\n",
            "7000/7000 [==============================] - 15s 2ms/step - loss: 0.2106 - accuracy: 0.9067 - val_loss: 0.2161 - val_accuracy: 0.9036\n",
            "Epoch 109/150\n",
            "7000/7000 [==============================] - 15s 2ms/step - loss: 0.2107 - accuracy: 0.9070 - val_loss: 0.2180 - val_accuracy: 0.9026\n",
            "Epoch 110/150\n",
            "7000/7000 [==============================] - 15s 2ms/step - loss: 0.2105 - accuracy: 0.9070 - val_loss: 0.2152 - val_accuracy: 0.9035\n",
            "Epoch 111/150\n",
            "7000/7000 [==============================] - 15s 2ms/step - loss: 0.2105 - accuracy: 0.9068 - val_loss: 0.2151 - val_accuracy: 0.9040\n",
            "Epoch 112/150\n",
            "7000/7000 [==============================] - 15s 2ms/step - loss: 0.2104 - accuracy: 0.9072 - val_loss: 0.2159 - val_accuracy: 0.9037\n",
            "Epoch 113/150\n",
            "7000/7000 [==============================] - 15s 2ms/step - loss: 0.2106 - accuracy: 0.9074 - val_loss: 0.2160 - val_accuracy: 0.9031\n",
            "Epoch 114/150\n",
            "7000/7000 [==============================] - 17s 2ms/step - loss: 0.2107 - accuracy: 0.9069 - val_loss: 0.2154 - val_accuracy: 0.9045\n",
            "Epoch 115/150\n",
            "7000/7000 [==============================] - 15s 2ms/step - loss: 0.2104 - accuracy: 0.9065 - val_loss: 0.2152 - val_accuracy: 0.9042\n",
            "Epoch 116/150\n",
            "7000/7000 [==============================] - 14s 2ms/step - loss: 0.2105 - accuracy: 0.9062 - val_loss: 0.2164 - val_accuracy: 0.9029\n",
            "Epoch 117/150\n",
            "7000/7000 [==============================] - 17s 2ms/step - loss: 0.2104 - accuracy: 0.9074 - val_loss: 0.2155 - val_accuracy: 0.9040\n",
            "Epoch 118/150\n",
            "7000/7000 [==============================] - 15s 2ms/step - loss: 0.2105 - accuracy: 0.9067 - val_loss: 0.2163 - val_accuracy: 0.9036\n",
            "Epoch 119/150\n",
            "7000/7000 [==============================] - 17s 2ms/step - loss: 0.2104 - accuracy: 0.9072 - val_loss: 0.2155 - val_accuracy: 0.9042\n",
            "Epoch 120/150\n",
            "7000/7000 [==============================] - 18s 3ms/step - loss: 0.2103 - accuracy: 0.9073 - val_loss: 0.2158 - val_accuracy: 0.9041\n",
            "Epoch 121/150\n",
            "7000/7000 [==============================] - 18s 3ms/step - loss: 0.2104 - accuracy: 0.9069 - val_loss: 0.2155 - val_accuracy: 0.9036\n",
            "Epoch 122/150\n",
            "7000/7000 [==============================] - 16s 2ms/step - loss: 0.2103 - accuracy: 0.9069 - val_loss: 0.2167 - val_accuracy: 0.9038\n",
            "Epoch 123/150\n",
            "7000/7000 [==============================] - 16s 2ms/step - loss: 0.2104 - accuracy: 0.9067 - val_loss: 0.2159 - val_accuracy: 0.9036\n",
            "Epoch 124/150\n",
            "7000/7000 [==============================] - 15s 2ms/step - loss: 0.2102 - accuracy: 0.9072 - val_loss: 0.2155 - val_accuracy: 0.9044\n",
            "Epoch 125/150\n",
            "7000/7000 [==============================] - 15s 2ms/step - loss: 0.2103 - accuracy: 0.9073 - val_loss: 0.2164 - val_accuracy: 0.9030\n",
            "Epoch 126/150\n",
            "7000/7000 [==============================] - 17s 2ms/step - loss: 0.2104 - accuracy: 0.9070 - val_loss: 0.2152 - val_accuracy: 0.9032\n",
            "Epoch 127/150\n",
            "7000/7000 [==============================] - 15s 2ms/step - loss: 0.2103 - accuracy: 0.9073 - val_loss: 0.2167 - val_accuracy: 0.9024\n",
            "Epoch 128/150\n",
            "7000/7000 [==============================] - 15s 2ms/step - loss: 0.2100 - accuracy: 0.9073 - val_loss: 0.2167 - val_accuracy: 0.9034\n",
            "Epoch 129/150\n",
            "7000/7000 [==============================] - 17s 2ms/step - loss: 0.2101 - accuracy: 0.9075 - val_loss: 0.2155 - val_accuracy: 0.9043\n",
            "Epoch 130/150\n",
            "7000/7000 [==============================] - 17s 2ms/step - loss: 0.2102 - accuracy: 0.9076 - val_loss: 0.2171 - val_accuracy: 0.9032\n",
            "Epoch 131/150\n",
            "7000/7000 [==============================] - 16s 2ms/step - loss: 0.2102 - accuracy: 0.9073 - val_loss: 0.2163 - val_accuracy: 0.9042\n",
            "Epoch 132/150\n",
            "7000/7000 [==============================] - 18s 3ms/step - loss: 0.2101 - accuracy: 0.9069 - val_loss: 0.2180 - val_accuracy: 0.9023\n",
            "Epoch 133/150\n",
            "7000/7000 [==============================] - 17s 2ms/step - loss: 0.2101 - accuracy: 0.9074 - val_loss: 0.2160 - val_accuracy: 0.9038\n",
            "Epoch 134/150\n",
            "7000/7000 [==============================] - 17s 2ms/step - loss: 0.2102 - accuracy: 0.9070 - val_loss: 0.2166 - val_accuracy: 0.9047\n",
            "Epoch 135/150\n",
            "7000/7000 [==============================] - 17s 2ms/step - loss: 0.2100 - accuracy: 0.9076 - val_loss: 0.2163 - val_accuracy: 0.9039\n",
            "Epoch 136/150\n",
            "7000/7000 [==============================] - 17s 2ms/step - loss: 0.2102 - accuracy: 0.9073 - val_loss: 0.2157 - val_accuracy: 0.9042\n",
            "Epoch 137/150\n",
            "7000/7000 [==============================] - 16s 2ms/step - loss: 0.2100 - accuracy: 0.9069 - val_loss: 0.2158 - val_accuracy: 0.9037\n",
            "Epoch 138/150\n",
            "7000/7000 [==============================] - 17s 2ms/step - loss: 0.2099 - accuracy: 0.9070 - val_loss: 0.2154 - val_accuracy: 0.9041\n",
            "Epoch 139/150\n",
            "7000/7000 [==============================] - 16s 2ms/step - loss: 0.2101 - accuracy: 0.9066 - val_loss: 0.2158 - val_accuracy: 0.9042\n",
            "Epoch 140/150\n",
            "7000/7000 [==============================] - 15s 2ms/step - loss: 0.2099 - accuracy: 0.9071 - val_loss: 0.2156 - val_accuracy: 0.9035\n",
            "Epoch 141/150\n",
            "7000/7000 [==============================] - 15s 2ms/step - loss: 0.2100 - accuracy: 0.9068 - val_loss: 0.2160 - val_accuracy: 0.9040\n",
            "Epoch 142/150\n",
            "7000/7000 [==============================] - 17s 2ms/step - loss: 0.2100 - accuracy: 0.9076 - val_loss: 0.2153 - val_accuracy: 0.9036\n",
            "Epoch 143/150\n",
            "7000/7000 [==============================] - 15s 2ms/step - loss: 0.2101 - accuracy: 0.9067 - val_loss: 0.2154 - val_accuracy: 0.9038\n",
            "Epoch 144/150\n",
            "7000/7000 [==============================] - 17s 2ms/step - loss: 0.2100 - accuracy: 0.9071 - val_loss: 0.2159 - val_accuracy: 0.9041\n",
            "Epoch 145/150\n",
            "7000/7000 [==============================] - 17s 2ms/step - loss: 0.2100 - accuracy: 0.9070 - val_loss: 0.2161 - val_accuracy: 0.9040\n",
            "Epoch 146/150\n",
            "7000/7000 [==============================] - 15s 2ms/step - loss: 0.2099 - accuracy: 0.9075 - val_loss: 0.2151 - val_accuracy: 0.9042\n",
            "Epoch 147/150\n",
            "7000/7000 [==============================] - 17s 2ms/step - loss: 0.2099 - accuracy: 0.9068 - val_loss: 0.2169 - val_accuracy: 0.9026\n",
            "Epoch 148/150\n",
            "7000/7000 [==============================] - 16s 2ms/step - loss: 0.2099 - accuracy: 0.9071 - val_loss: 0.2158 - val_accuracy: 0.9044\n",
            "Epoch 149/150\n",
            "7000/7000 [==============================] - 17s 2ms/step - loss: 0.2099 - accuracy: 0.9071 - val_loss: 0.2164 - val_accuracy: 0.9038\n",
            "Epoch 150/150\n",
            "7000/7000 [==============================] - 15s 2ms/step - loss: 0.2100 - accuracy: 0.9071 - val_loss: 0.2159 - val_accuracy: 0.9038\n",
            "dict_keys(['loss', 'accuracy', 'val_loss', 'val_accuracy'])\n",
            "INFO:tensorflow:Assets written to: /content/models/my_model/assets\n"
          ]
        },
        {
          "output_type": "display_data",
          "data": {
            "image/png": "[encoded data removed]",
            "text/plain": [
              "<Figure size 432x288 with 1 Axes>"
            ]
          },
          "metadata": {
            "needs_background": "light"
          }
        }
      ]
    },
    {
      "cell_type": "code",
      "source": [
        "_, accuracy = model.evaluate(X, y)"
      ],
      "metadata": {
        "colab": {
          "base_uri": "https://localhost:8080/"
        },
        "id": "ow31X8lgMYzD",
        "outputId": "9cf45dbe-3b9f-40c9-fc0e-7a234c902685"
      },
      "execution_count": null,
      "outputs": [
        {
          "output_type": "stream",
          "name": "stdout",
          "text": [
            "3125/3125 [==============================] - 9s 3ms/step - loss: 29.5226 - accuracy: 0.7273\n"
          ]
        }
      ]
    },
    {
      "cell_type": "code",
      "source": [
        "print('Accuracy: %.2f' % (accuracy*100))\n",
        "print(' Number of entries: ', len(X))"
      ],
      "metadata": {
        "colab": {
          "base_uri": "https://localhost:8080/"
        },
        "id": "0Fj25LT8NCYo",
        "outputId": "da688fcf-7830-4a72-bebf-193d04108ad9"
      },
      "execution_count": null,
      "outputs": [
        {
          "output_type": "stream",
          "name": "stdout",
          "text": [
            "Accuracy: 72.73\n",
            " Number of entries:  100000\n"
          ]
        }
      ]
    },
    {
      "cell_type": "code",
      "source": [
        "scaler.fit(X)\n",
        "X_norm = scaler.transform(X)\n",
        "dataset_norm = np.insert(X_norm,10, y, axis=1)"
      ],
      "metadata": {
        "id": "dB-_82h2NXX4"
      },
      "execution_count": null,
      "outputs": []
    },
    {
      "cell_type": "code",
      "source": [
        "if doPlots:\n",
        "    feat = [\"f\"+str(j)+\"_norm\" for j in range(10)]\n",
        "    for k,f in enumerate(feat):\n",
        "        print(feat)\n",
        "        x = dataset_norm[:,[k,10]]\n",
        "        x1 = x[ x[:,1] == 0  ]\n",
        "        x1 = x1[:,0]\n",
        "        x2 = x[ x[:,1] >0  ]\n",
        "        x2 = x2[:,0]\n",
        "        makePlot(x1,x2,f,20)"
      ],
      "metadata": {
        "colab": {
          "base_uri": "https://localhost:8080/",
          "height": 468
        },
        "id": "k1JffrVoOAep",
        "outputId": "14fe49c7-090c-4f5d-b260-c19a92d83e2b"
      },
      "execution_count": null,
      "outputs": [
        {
          "output_type": "stream",
          "name": "stdout",
          "text": [
            "['f0_norm', 'f1_norm', 'f2_norm', 'f3_norm', 'f4_norm', 'f5_norm', 'f6_norm', 'f7_norm', 'f8_norm', 'f9_norm']\n",
            "['f0_norm', 'f1_norm', 'f2_norm', 'f3_norm', 'f4_norm', 'f5_norm', 'f6_norm', 'f7_norm', 'f8_norm', 'f9_norm']\n",
            "['f0_norm', 'f1_norm', 'f2_norm', 'f3_norm', 'f4_norm', 'f5_norm', 'f6_norm', 'f7_norm', 'f8_norm', 'f9_norm']\n",
            "['f0_norm', 'f1_norm', 'f2_norm', 'f3_norm', 'f4_norm', 'f5_norm', 'f6_norm', 'f7_norm', 'f8_norm', 'f9_norm']\n",
            "['f0_norm', 'f1_norm', 'f2_norm', 'f3_norm', 'f4_norm', 'f5_norm', 'f6_norm', 'f7_norm', 'f8_norm', 'f9_norm']\n",
            "['f0_norm', 'f1_norm', 'f2_norm', 'f3_norm', 'f4_norm', 'f5_norm', 'f6_norm', 'f7_norm', 'f8_norm', 'f9_norm']\n",
            "['f0_norm', 'f1_norm', 'f2_norm', 'f3_norm', 'f4_norm', 'f5_norm', 'f6_norm', 'f7_norm', 'f8_norm', 'f9_norm']\n",
            "['f0_norm', 'f1_norm', 'f2_norm', 'f3_norm', 'f4_norm', 'f5_norm', 'f6_norm', 'f7_norm', 'f8_norm', 'f9_norm']\n",
            "['f0_norm', 'f1_norm', 'f2_norm', 'f3_norm', 'f4_norm', 'f5_norm', 'f6_norm', 'f7_norm', 'f8_norm', 'f9_norm']\n",
            "['f0_norm', 'f1_norm', 'f2_norm', 'f3_norm', 'f4_norm', 'f5_norm', 'f6_norm', 'f7_norm', 'f8_norm', 'f9_norm']\n"
          ]
        },
        {
          "output_type": "display_data",
          "data": {
            "image/png": "[encoded data removed]",
            "text/plain": [
              "<Figure size 432x288 with 1 Axes>"
            ]
          },
          "metadata": {
            "needs_background": "light"
          }
        }
      ]
    },
    {
      "cell_type": "code",
      "source": [
        "x_bkg =  dataset_norm[  dataset_norm[:,10] == 0  ][:,0:10] \n",
        "x_sig =  dataset_norm[  dataset_norm[:,10] > 0  ][:,0:10] \n",
        "\n",
        "## prediction\n",
        "res_sig = model.predict(x_sig)\n",
        "res_bkg = model.predict(x_bkg)\n",
        "print(res_sig)\n",
        "makePlot(res_bkg.flatten(),res_sig.flatten(), \"nn_pred\", 20, xtitle=\"NN output\", title=\"all sample\")"
      ],
      "metadata": {
        "colab": {
          "base_uri": "https://localhost:8080/",
          "height": 416
        },
        "id": "T2_OSsgcOsC_",
        "outputId": "186b9b06-3a75-4a97-a810-aa38c12dcbd5"
      },
      "execution_count": null,
      "outputs": [
        {
          "output_type": "stream",
          "name": "stdout",
          "text": [
            "[[0.43294066]\n",
            " [0.68644655]\n",
            " [0.00642818]\n",
            " ...\n",
            " [0.5539884 ]\n",
            " [0.27135187]\n",
            " [0.5933848 ]]\n"
          ]
        },
        {
          "output_type": "display_data",
          "data": {
            "image/png": "[encoded data removed]",
            "text/plain": [
              "<Figure size 432x288 with 1 Axes>"
            ]
          },
          "metadata": {
            "needs_background": "light"
          }
        }
      ]
    },
    {
      "cell_type": "code",
      "source": [
        "shape = dataset_norm.shape\n",
        "N = shape[0]\n",
        "N_train = int(2*N/3)\n",
        "data_train = dataset_norm[N_train:,:]\n",
        "x_bkg = data_train[  data_train[:,10] == 0  ][:,0:10] \n",
        "x_sig = data_train[  data_train[:,10] > 0 ][:,0:10]\n",
        "\n",
        "\n",
        "## prediction\n",
        "res_sig = model.predict(x_sig)\n",
        "res_bkg = model.predict(x_bkg)\n",
        "makePlot(res_bkg.flatten(),res_sig.flatten(), \"nn_pred_test\", 20, xtitle=\"NN output\", title=\"test sample\")\n",
        "\n"
      ],
      "metadata": {
        "colab": {
          "base_uri": "https://localhost:8080/",
          "height": 294
        },
        "id": "84gonKmwPghv",
        "outputId": "a9fa7f2c-ec68-4f8d-ddfe-fb6a183fccb2"
      },
      "execution_count": null,
      "outputs": [
        {
          "output_type": "display_data",
          "data": {
            "image/png": "[encoded data removed]",
            "text/plain": [
              "<Figure size 432x288 with 1 Axes>"
            ]
          },
          "metadata": {
            "needs_background": "light"
          }
        }
      ]
    },
    {
      "cell_type": "code",
      "source": [
        "_,acc_train = model.evaluate(X_train, y_train)\n",
        "print('Accuracy train: {:.2f}'.format(acc_train))\n",
        "\n",
        "score,acc_test = model.evaluate(X_test, y_test)\n",
        "print('Accuracy test: {:.2f}'.format(acc_test))"
      ],
      "metadata": {
        "colab": {
          "base_uri": "https://localhost:8080/"
        },
        "id": "XPkUPWR6P_xF",
        "outputId": "0d12db13-47ef-43b2-bd66-4741f9e83d6d"
      },
      "execution_count": null,
      "outputs": [
        {
          "output_type": "stream",
          "name": "stdout",
          "text": [
            "2188/2188 [==============================] - 6s 3ms/step - loss: 29.3620 - accuracy: 0.7276\n",
            "Accuracy train: 0.73\n",
            "938/938 [==============================] - 2s 2ms/step - loss: 29.8972 - accuracy: 0.7268\n",
            "Accuracy test: 0.73\n"
          ]
        }
      ]
    },
    {
      "cell_type": "code",
      "source": [
        "rfc=RandomForestClassifier(random_state=42)\n",
        "model = rfc.fit(x_train_norm,y_train)\n",
        "   \n",
        "   \n",
        "   \n",
        "   \n",
        "   \n",
        "   \n",
        "# evaluate the output of the discriminant\n",
        "\n",
        "prob_train = model.predict_proba(X_train)[:,1]\n",
        "prob_test = model.predict_proba(X_test)[:,1]\n",
        "#prob_all =  model.predict_proba(x)[:,1]\n",
        "\n",
        "prob_train_signal = prob_train[y_train==1]\n",
        "prob_train_bkg = prob_train[y_train==0]\n",
        "prob_test_signal = prob_test[y_test==1]\n",
        "prob_test_bkg = prob_test[y_test==0]\n",
        "\n",
        "\n",
        "if doPlots:\n",
        "  bins = np.linspace(0.,1., 20)\n",
        "  makePlot(prob_train_signal, prob_train_bkg, bins, 'Cat 1 probability',\n",
        "            'Entries',['Cat 1', 'Cat 0'], 'output_svm', 'Train sample')\n",
        "  makePlot(prob_test_signal, prob_test_bkg, bins, 'Cat 1 probability',\n",
        "            'Entries',['Cat 1','Cat 0'],'output_test_svm', 'Test sample')\n",
        "\n",
        "\n",
        "# Roc curves:\n",
        "fpr, tpr, thresholds = roc_curve(y_test, prob_test)\n",
        "fpr_tr, tpr_tr, thresholds_tr = roc_curve(y_train, prob_train)\n",
        "\n",
        "plt.clf()\n",
        "fig, axes = plt.subplots()\n",
        "plt.plot(fpr, tpr, label='test sample')\n",
        "plt.plot(fpr_tr, tpr_tr, label='train sample')\n",
        "plt.legend()\n",
        "    \n",
        "axes.set_xlabel('False positive rate', fontsize=15)\n",
        "axes.set_ylabel('True positive rate', fontsize=15)\n",
        "plt.savefig(\"roc_curve.png\")\n",
        "    \n",
        "auc = roc_auc_score(y_test, prob_test)\n",
        "auc_train = roc_auc_score(y_train, prob_train)\n",
        "\n",
        "y_pred_test = (prob_test > 0.5)\n",
        "    \n",
        "accu = np.sum(y_test == y_pred_test) / len(y_test) \n",
        "print(auc, auc_train)"
      ],
      "metadata": {
        "colab": {
          "base_uri": "https://localhost:8080/",
          "height": 352
        },
        "id": "vhuJDf6eDXRz",
        "outputId": "605c3d98-2c4d-4d90-b26d-95c2a4c8d237"
      },
      "execution_count": null,
      "outputs": [
        {
          "output_type": "stream",
          "name": "stdout",
          "text": [
            "0.5019903227456396 0.5053226956110113\n"
          ]
        },
        {
          "output_type": "display_data",
          "data": {
            "text/plain": [
              "<Figure size 432x288 with 0 Axes>"
            ]
          },
          "metadata": {}
        },
        {
          "output_type": "display_data",
          "data": {
            "text/plain": [
              "<Figure size 432x288 with 0 Axes>"
            ]
          },
          "metadata": {}
        },
        {
          "output_type": "display_data",
          "data": {
            "text/plain": [
              "<Figure size 432x288 with 0 Axes>"
            ]
          },
          "metadata": {}
        },
        {
          "output_type": "display_data",
          "data": {
            "text/plain": [
              "<Figure size 432x288 with 1 Axes>"
            ],
            "image/png": "[encoded data removed]"
          },
          "metadata": {
            "needs_background": "light"
          }
        }
      ]
    },
    {
      "cell_type": "code",
      "source": [
        "tpot = TPOTClassifier(generations=3, population_size=50, verbosity=2, random_state=42)\n",
        "tpot.fit(X_train, y_train)\n",
        "print(tpot.score(X_test, y_test))\n",
        "tpot.export('/content/tpot_higgs_pipeline.py')"
      ],
      "metadata": {
        "colab": {
          "base_uri": "https://localhost:8080/",
          "height": 193,
          "referenced_widgets": [
            "ba975713b05b48518c4a3e00667869e7",
            "68102f41f1304846a3f5df360cf31850",
            "a7af9b9be1224d538acc2690f60d8830",
            "23639ac38df6493aafebff653192e078",
            "f4524eb7b69741c2bebfb53396cb0fef",
            "5fd17abe17f8457088a1037f24381d3b",
            "175b1ae6a5eb490291c6decca631ef57",
            "06fb3e9aadb041f5911f3a8eb3c12ac3",
            "066d5fb187f84190aeecf0a36dfe4f6d",
            "df3e7b14f82c4b7bac1318538f4e4c38",
            "d6563f04b53e45149bb6389f799ba00e"
          ]
        },
        "id": "V0QY4hFvAqUA",
        "outputId": "d4ddbf7d-d241-4276-e928-64d1b445e359"
      },
      "execution_count": null,
      "outputs": [
        {
          "output_type": "display_data",
          "data": {
            "text/plain": [
              "Optimization Progress:   0%|          | 0/200 [00:00<?, ?pipeline/s]"
            ],
            "application/vnd.jupyter.widget-view+json": {
              "version_major": 2,
              "version_minor": 0,
              "model_id": "ba975713b05b48518c4a3e00667869e7"
            }
          },
          "metadata": {}
        },
        {
          "output_type": "stream",
          "name": "stdout",
          "text": [
            "\n",
            "Generation 1 - Current best internal CV score: 0.9056000000000001\n",
            "\n",
            "Generation 2 - Current best internal CV score: 0.9056000000000001\n",
            "\n",
            "Generation 3 - Current best internal CV score: 0.9056000000000001\n",
            "\n",
            "Best pipeline: RandomForestClassifier(MinMaxScaler(input_matrix), bootstrap=True, criterion=gini, max_features=0.2, min_samples_leaf=8, min_samples_split=4, n_estimators=100)\n",
            "0.9037\n"
          ]
        }
      ]
    },
    {
      "cell_type": "markdown",
      "source": [
        "Best pipeline: RandomForestClassifier(MinMaxScaler(input_matrix), bootstrap=True, criterion=gini, max_features=0.2, min_samples_leaf=8, min_samples_split=4, n_estimators=100)\n",
        "\n",
        "MinMaxScaler equation\n",
        "\n",
        "X_std = (X - X.min(axis=0)) / (X.max(axis=0) - X.min(axis=0))\n",
        "X_scaled = X_std * (max - min) + min"
      ],
      "metadata": {
        "id": "zJxMyEU0vkt0"
      }
    },
    {
      "cell_type": "code",
      "source": [
        "# Average CV score on the training set was: 0.9056000000000001\n",
        "exported_pipeline = make_pipeline(\n",
        "    MinMaxScaler(),\n",
        "    RandomForestClassifier(bootstrap=True, criterion=\"gini\", max_features=0.2, min_samples_leaf=8, min_samples_split=4, n_estimators=100)\n",
        ")\n",
        "# Fix random state for all the steps in exported pipeline\n",
        "set_param_recursive(exported_pipeline.steps, 'random_state', 42)\n",
        "\n",
        "model = exported_pipeline.fit(X_train, y_train)\n",
        "results = exported_pipeline.predict(X_test)"
      ],
      "metadata": {
        "id": "nC5PKDNxxEMy"
      },
      "execution_count": null,
      "outputs": []
    },
    {
      "cell_type": "code",
      "source": [
        "model.score(X_test,y_test)"
      ],
      "metadata": {
        "colab": {
          "base_uri": "https://localhost:8080/"
        },
        "id": "3mUhu0PNyTQY",
        "outputId": "1d9bf87e-48a3-4a4e-ed5d-707b7f662721"
      },
      "execution_count": null,
      "outputs": [
        {
          "output_type": "execute_result",
          "data": {
            "text/plain": [
              "0.9037"
            ]
          },
          "metadata": {},
          "execution_count": 45
        }
      ]
    },
    {
      "cell_type": "code",
      "source": [
        "# evaluate the output of the discriminant\n",
        "\n",
        "prob_train = model.predict_proba(X_train)[:,1]\n",
        "prob_test = model.predict_proba(X_test)[:,1]\n",
        "#prob_all =  model.predict_proba(x)[:,1]\n",
        "\n",
        "prob_train_signal = prob_train[y_train==1]\n",
        "prob_train_bkg = prob_train[y_train==0]\n",
        "prob_test_signal = prob_test[y_test==1]\n",
        "prob_test_bkg = prob_test[y_test==0]\n",
        "\n",
        "\n",
        "if doPlots:\n",
        "  bins = np.linspace(0.,1., 20)\n",
        "  makePlot(prob_train_signal, prob_train_bkg, bins, 'Cat 1 probability',\n",
        "            'Entries',['Cat 1', 'Cat 0'], 'output_svm', 'Train sample')\n",
        "  makePlot(prob_test_signal, prob_test_bkg, bins, 'Cat 1 probability',\n",
        "            'Entries',['Cat 1','Cat 0'],'output_test_svm', 'Test sample')\n",
        "\n",
        "\n",
        "# Roc curves:\n",
        "fpr, tpr, thresholds = roc_curve(y_test, prob_test)\n",
        "fpr_tr, tpr_tr, thresholds_tr = roc_curve(y_train, prob_train)\n",
        "\n",
        "plt.clf()\n",
        "fig, axes = plt.subplots()\n",
        "plt.plot(fpr, tpr, label='test sample')\n",
        "plt.plot(fpr_tr, tpr_tr, label='train sample')\n",
        "plt.legend()\n",
        "    \n",
        "axes.set_xlabel('False positive rate', fontsize=15)\n",
        "axes.set_ylabel('True positive rate', fontsize=15)\n",
        "plt.savefig(\"roc_curve.png\")\n",
        "    \n",
        "auc = roc_auc_score(y_test, prob_test)\n",
        "auc_train = roc_auc_score(y_train, prob_train)\n",
        "\n",
        "y_pred_test = (prob_test > 0.5)\n",
        "    \n",
        "accu = np.sum(y_test == y_pred_test) / len(y_test) \n",
        "print(auc, auc_train)"
      ],
      "metadata": {
        "colab": {
          "base_uri": "https://localhost:8080/",
          "height": 352
        },
        "id": "E3qtzUXgzeX-",
        "outputId": "511294bb-851e-4b2f-fe3b-636cb5c8f840"
      },
      "execution_count": null,
      "outputs": [
        {
          "output_type": "stream",
          "name": "stdout",
          "text": [
            "0.9336791275240255 0.9781927252760648\n"
          ]
        },
        {
          "output_type": "display_data",
          "data": {
            "text/plain": [
              "<Figure size 432x288 with 0 Axes>"
            ]
          },
          "metadata": {}
        },
        {
          "output_type": "display_data",
          "data": {
            "text/plain": [
              "<Figure size 432x288 with 0 Axes>"
            ]
          },
          "metadata": {}
        },
        {
          "output_type": "display_data",
          "data": {
            "text/plain": [
              "<Figure size 432x288 with 0 Axes>"
            ]
          },
          "metadata": {}
        },
        {
          "output_type": "display_data",
          "data": {
            "text/plain": [
              "<Figure size 432x288 with 1 Axes>"
            ],
            "image/png": "[encoded data removed]"
          },
          "metadata": {
            "needs_background": "light"
          }
        }
      ]
    }
  ],
  "metadata": {
    "colab": {
      "collapsed_sections": [],
      "name": "ATLAS Data anaysis.ipynb",
      "provenance": [],
      "authorship_tag": "ABX9TyMp48YiB37ML9iAeN5ZYhXg",
      "include_colab_link": true
    },
    "kernelspec": {
      "display_name": "Python 3",
      "name": "python3"
    },
    "language_info": {
      "name": "python"
    },
    "widgets": {
      "application/vnd.jupyter.widget-state+json": {
        "ba975713b05b48518c4a3e00667869e7": {
          "model_module": "@jupyter-widgets/controls",
          "model_name": "HBoxModel",
          "model_module_version": "1.5.0",
          "state": {
            "_dom_classes": [],
            "_model_module": "@jupyter-widgets/controls",
            "_model_module_version": "1.5.0",
            "_model_name": "HBoxModel",
            "_view_count": null,
            "_view_module": "@jupyter-widgets/controls",
            "_view_module_version": "1.5.0",
            "_view_name": "HBoxView",
            "box_style": "",
            "children": [
              "IPY_MODEL_68102f41f1304846a3f5df360cf31850",
              "IPY_MODEL_a7af9b9be1224d538acc2690f60d8830",
              "IPY_MODEL_23639ac38df6493aafebff653192e078"
            ],
            "layout": "IPY_MODEL_f4524eb7b69741c2bebfb53396cb0fef"
          }
        },
        "68102f41f1304846a3f5df360cf31850": {
          "model_module": "@jupyter-widgets/controls",
          "model_name": "HTMLModel",
          "model_module_version": "1.5.0",
          "state": {
            "_dom_classes": [],
            "_model_module": "@jupyter-widgets/controls",
            "_model_module_version": "1.5.0",
            "_model_name": "HTMLModel",
            "_view_count": null,
            "_view_module": "@jupyter-widgets/controls",
            "_view_module_version": "1.5.0",
            "_view_name": "HTMLView",
            "description": "",
            "description_tooltip": null,
            "layout": "IPY_MODEL_5fd17abe17f8457088a1037f24381d3b",
            "placeholder": "​",
            "style": "IPY_MODEL_175b1ae6a5eb490291c6decca631ef57",
            "value": "Optimization Progress: "
          }
        },
        "a7af9b9be1224d538acc2690f60d8830": {
          "model_module": "@jupyter-widgets/controls",
          "model_name": "FloatProgressModel",
          "model_module_version": "1.5.0",
          "state": {
            "_dom_classes": [],
            "_model_module": "@jupyter-widgets/controls",
            "_model_module_version": "1.5.0",
            "_model_name": "FloatProgressModel",
            "_view_count": null,
            "_view_module": "@jupyter-widgets/controls",
            "_view_module_version": "1.5.0",
            "_view_name": "ProgressView",
            "bar_style": "",
            "description": "",
            "description_tooltip": null,
            "layout": "IPY_MODEL_06fb3e9aadb041f5911f3a8eb3c12ac3",
            "max": 200,
            "min": 0,
            "orientation": "horizontal",
            "style": "IPY_MODEL_066d5fb187f84190aeecf0a36dfe4f6d",
            "value": 200
          }
        },
        "23639ac38df6493aafebff653192e078": {
          "model_module": "@jupyter-widgets/controls",
          "model_name": "HTMLModel",
          "model_module_version": "1.5.0",
          "state": {
            "_dom_classes": [],
            "_model_module": "@jupyter-widgets/controls",
            "_model_module_version": "1.5.0",
            "_model_name": "HTMLModel",
            "_view_count": null,
            "_view_module": "@jupyter-widgets/controls",
            "_view_module_version": "1.5.0",
            "_view_name": "HTMLView",
            "description": "",
            "description_tooltip": null,
            "layout": "IPY_MODEL_df3e7b14f82c4b7bac1318538f4e4c38",
            "placeholder": "​",
            "style": "IPY_MODEL_d6563f04b53e45149bb6389f799ba00e",
            "value": " 208/? [3:42:48&lt;00:00, 57.11s/pipeline]"
          }
        },
        "f4524eb7b69741c2bebfb53396cb0fef": {
          "model_module": "@jupyter-widgets/base",
          "model_name": "LayoutModel",
          "model_module_version": "1.2.0",
          "state": {
            "_model_module": "@jupyter-widgets/base",
            "_model_module_version": "1.2.0",
            "_model_name": "LayoutModel",
            "_view_count": null,
            "_view_module": "@jupyter-widgets/base",
            "_view_module_version": "1.2.0",
            "_view_name": "LayoutView",
            "align_content": null,
            "align_items": null,
            "align_self": null,
            "border": null,
            "bottom": null,
            "display": null,
            "flex": null,
            "flex_flow": null,
            "grid_area": null,
            "grid_auto_columns": null,
            "grid_auto_flow": null,
            "grid_auto_rows": null,
            "grid_column": null,
            "grid_gap": null,
            "grid_row": null,
            "grid_template_areas": null,
            "grid_template_columns": null,
            "grid_template_rows": null,
            "height": null,
            "justify_content": null,
            "justify_items": null,
            "left": null,
            "margin": null,
            "max_height": null,
            "max_width": null,
            "min_height": null,
            "min_width": null,
            "object_fit": null,
            "object_position": null,
            "order": null,
            "overflow": null,
            "overflow_x": null,
            "overflow_y": null,
            "padding": null,
            "right": null,
            "top": null,
            "visibility": null,
            "width": null
          }
        },
        "5fd17abe17f8457088a1037f24381d3b": {
          "model_module": "@jupyter-widgets/base",
          "model_name": "LayoutModel",
          "model_module_version": "1.2.0",
          "state": {
            "_model_module": "@jupyter-widgets/base",
            "_model_module_version": "1.2.0",
            "_model_name": "LayoutModel",
            "_view_count": null,
            "_view_module": "@jupyter-widgets/base",
            "_view_module_version": "1.2.0",
            "_view_name": "LayoutView",
            "align_content": null,
            "align_items": null,
            "align_self": null,
            "border": null,
            "bottom": null,
            "display": null,
            "flex": null,
            "flex_flow": null,
            "grid_area": null,
            "grid_auto_columns": null,
            "grid_auto_flow": null,
            "grid_auto_rows": null,
            "grid_column": null,
            "grid_gap": null,
            "grid_row": null,
            "grid_template_areas": null,
            "grid_template_columns": null,
            "grid_template_rows": null,
            "height": null,
            "justify_content": null,
            "justify_items": null,
            "left": null,
            "margin": null,
            "max_height": null,
            "max_width": null,
            "min_height": null,
            "min_width": null,
            "object_fit": null,
            "object_position": null,
            "order": null,
            "overflow": null,
            "overflow_x": null,
            "overflow_y": null,
            "padding": null,
            "right": null,
            "top": null,
            "visibility": null,
            "width": null
          }
        },
        "175b1ae6a5eb490291c6decca631ef57": {
          "model_module": "@jupyter-widgets/controls",
          "model_name": "DescriptionStyleModel",
          "model_module_version": "1.5.0",
          "state": {
            "_model_module": "@jupyter-widgets/controls",
            "_model_module_version": "1.5.0",
            "_model_name": "DescriptionStyleModel",
            "_view_count": null,
            "_view_module": "@jupyter-widgets/base",
            "_view_module_version": "1.2.0",
            "_view_name": "StyleView",
            "description_width": ""
          }
        },
        "06fb3e9aadb041f5911f3a8eb3c12ac3": {
          "model_module": "@jupyter-widgets/base",
          "model_name": "LayoutModel",
          "model_module_version": "1.2.0",
          "state": {
            "_model_module": "@jupyter-widgets/base",
            "_model_module_version": "1.2.0",
            "_model_name": "LayoutModel",
            "_view_count": null,
            "_view_module": "@jupyter-widgets/base",
            "_view_module_version": "1.2.0",
            "_view_name": "LayoutView",
            "align_content": null,
            "align_items": null,
            "align_self": null,
            "border": null,
            "bottom": null,
            "display": null,
            "flex": null,
            "flex_flow": null,
            "grid_area": null,
            "grid_auto_columns": null,
            "grid_auto_flow": null,
            "grid_auto_rows": null,
            "grid_column": null,
            "grid_gap": null,
            "grid_row": null,
            "grid_template_areas": null,
            "grid_template_columns": null,
            "grid_template_rows": null,
            "height": null,
            "justify_content": null,
            "justify_items": null,
            "left": null,
            "margin": null,
            "max_height": null,
            "max_width": null,
            "min_height": null,
            "min_width": null,
            "object_fit": null,
            "object_position": null,
            "order": null,
            "overflow": null,
            "overflow_x": null,
            "overflow_y": null,
            "padding": null,
            "right": null,
            "top": null,
            "visibility": null,
            "width": null
          }
        },
        "066d5fb187f84190aeecf0a36dfe4f6d": {
          "model_module": "@jupyter-widgets/controls",
          "model_name": "ProgressStyleModel",
          "model_module_version": "1.5.0",
          "state": {
            "_model_module": "@jupyter-widgets/controls",
            "_model_module_version": "1.5.0",
            "_model_name": "ProgressStyleModel",
            "_view_count": null,
            "_view_module": "@jupyter-widgets/base",
            "_view_module_version": "1.2.0",
            "_view_name": "StyleView",
            "bar_color": null,
            "description_width": ""
          }
        },
        "df3e7b14f82c4b7bac1318538f4e4c38": {
          "model_module": "@jupyter-widgets/base",
          "model_name": "LayoutModel",
          "model_module_version": "1.2.0",
          "state": {
            "_model_module": "@jupyter-widgets/base",
            "_model_module_version": "1.2.0",
            "_model_name": "LayoutModel",
            "_view_count": null,
            "_view_module": "@jupyter-widgets/base",
            "_view_module_version": "1.2.0",
            "_view_name": "LayoutView",
            "align_content": null,
            "align_items": null,
            "align_self": null,
            "border": null,
            "bottom": null,
            "display": null,
            "flex": null,
            "flex_flow": null,
            "grid_area": null,
            "grid_auto_columns": null,
            "grid_auto_flow": null,
            "grid_auto_rows": null,
            "grid_column": null,
            "grid_gap": null,
            "grid_row": null,
            "grid_template_areas": null,
            "grid_template_columns": null,
            "grid_template_rows": null,
            "height": null,
            "justify_content": null,
            "justify_items": null,
            "left": null,
            "margin": null,
            "max_height": null,
            "max_width": null,
            "min_height": null,
            "min_width": null,
            "object_fit": null,
            "object_position": null,
            "order": null,
            "overflow": null,
            "overflow_x": null,
            "overflow_y": null,
            "padding": null,
            "right": null,
            "top": null,
            "visibility": null,
            "width": null
          }
        },
        "d6563f04b53e45149bb6389f799ba00e": {
          "model_module": "@jupyter-widgets/controls",
          "model_name": "DescriptionStyleModel",
          "model_module_version": "1.5.0",
          "state": {
            "_model_module": "@jupyter-widgets/controls",
            "_model_module_version": "1.5.0",
            "_model_name": "DescriptionStyleModel",
            "_view_count": null,
            "_view_module": "@jupyter-widgets/base",
            "_view_module_version": "1.2.0",
            "_view_name": "StyleView",
            "description_width": ""
          }
        }
      }
    }
  },
  "nbformat": 4,
  "nbformat_minor": 0
}